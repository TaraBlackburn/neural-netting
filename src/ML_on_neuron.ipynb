{
 "cells": [
  {
   "cell_type": "code",
   "execution_count": 1,
   "metadata": {},
   "outputs": [],
   "source": [
    "import numpy as np\n",
    "import pandas as pd\n",
    "\n",
    "import os\n",
    "import pickle\n",
    "import glob\n",
    "import matplotlib.pyplot as plt\n",
    "import time\n",
    "import keras\n",
    "import tensorflow as tf\n",
    "from sklearn.metrics import plot_confusion_matrix\n",
    "import imageio\n",
    "from scipy import signal\n",
    "from keras.models import load_model\n",
    "from sklearn.linear_model import LogisticRegression\n",
    "from sklearn.metrics import mean_squared_error as MSE\n",
    "from sklearn.metrics import mean_absolute_error as MAE\n",
    "from sklearn.model_selection import train_test_split\n",
    "from sklearn.preprocessing import LabelEncoder\n",
    "from sklearn.metrics import explained_variance_score\n",
    "from sklearn.metrics import roc_curve, auc\n",
    "from skimage.transform import resize\n",
    "from matplotlib.lines import Line2D\n",
    "import matplotlib.patches as mpatches\n",
    "import matplotlib.gridspec as gridspec\n",
    "from mpl_toolkits.axes_grid1.inset_locator import inset_axes\n",
    "from sklearn.metrics import classification_report, confusion_matrix\n"
   ]
  },
  {
   "cell_type": "code",
   "execution_count": 2,
   "metadata": {},
   "outputs": [
    {
     "data": {
      "text/plain": [
       "'import tensorflow as tf\\nprint(\"You are using TensorFlow version\", tf.__version__)\\nif len(tf.config.list_physical_devices(\\'GPU\\')) > 0:    \\n    print(\"You have a GPU enabled.\")\\nelse:    \\n    print(\"Enable a GPU before running this notebook.\")'"
      ]
     },
     "execution_count": 2,
     "metadata": {},
     "output_type": "execute_result"
    }
   ],
   "source": [
    "'''import tensorflow as tf\n",
    "print(\"You are using TensorFlow version\", tf.__version__)\n",
    "if len(tf.config.list_physical_devices('GPU')) > 0:    \n",
    "    print(\"You have a GPU enabled.\")\n",
    "else:    \n",
    "    print(\"Enable a GPU before running this notebook.\")'''"
   ]
  },
  {
   "cell_type": "code",
   "execution_count": 3,
   "metadata": {},
   "outputs": [
    {
     "name": "stdout",
     "output_type": "stream",
     "text": [
      "-----------------------------------------------\n",
      "finding files: morphology and test data\n",
      "-----------------------------------------------\n",
      "model metadata found : \"NMDA_TCN__DWT_7_128_153__training.pickle\"\n",
      "morphology found     : \"morphology_dict.pickle\"\n",
      "number of test files is 12\n",
      "-----------------------------------------------\n"
     ]
    }
   ],
   "source": [
    "save_figures = False\n",
    "file_ending = '.png'\n",
    "model_string = 'NMDA'\n",
    "\n",
    "dataset_folder = '../data'\n",
    "\n",
    "models_folder     = os.path.join(dataset_folder, 'Models')\n",
    "morphology_folder = os.path.join(dataset_folder, 'Morphology')\n",
    "test_data_folder  = os.path.join(dataset_folder, 'Data_test')\n",
    "#auxiliary_folder  = os.path.join(dataset_folder, 'Auxiliary')\n",
    "\n",
    "model_filename           = os.path.join(models_folder, 'NMDA_TCN__DWT_7_128_153__model.h5')\n",
    "model_metadata_filename  = os.path.join(models_folder, 'NMDA_TCN__DWT_7_128_153__training.pickle')\n",
    "morphology_filename      = os.path.join(morphology_folder, 'morphology_dict.pickle')\n",
    "#NN_illustration_filename = os.path.join(auxiliary_folder, 'TCN_7_layers.png')\n",
    "test_files               = sorted(glob.glob(os.path.join(test_data_folder, '*_128_simulationRuns*_6_secDuration_*')))\n",
    "\n",
    "print('-----------------------------------------------')\n",
    "print('finding files: morphology and test data')\n",
    "print('-----------------------------------------------')\n",
    "#print('model found          : \"%s\"' %(model_filename.split('/')[-1]))\n",
    "print('model metadata found : \"%s\"' %(model_metadata_filename.split('/')[-1]))\n",
    "print('morphology found     : \"%s\"' %(morphology_filename.split('/')[-1]))\n",
    "print('number of test files is %d' %(len(test_files)))\n",
    "print('-----------------------------------------------')"
   ]
  },
  {
   "cell_type": "code",
   "execution_count": 4,
   "metadata": {},
   "outputs": [],
   "source": [
    "testing_3 = test_files[1]\n",
    "experiment_dict = pickle.load(open(testing_3, \"rb\" ), encoding='latin1')\n"
   ]
  },
  {
   "cell_type": "code",
   "execution_count": 5,
   "metadata": {},
   "outputs": [
    {
     "data": {
      "text/html": [
       "<div>\n",
       "<style scoped>\n",
       "    .dataframe tbody tr th:only-of-type {\n",
       "        vertical-align: middle;\n",
       "    }\n",
       "\n",
       "    .dataframe tbody tr th {\n",
       "        vertical-align: top;\n",
       "    }\n",
       "\n",
       "    .dataframe thead th {\n",
       "        text-align: right;\n",
       "    }\n",
       "</style>\n",
       "<table border=\"1\" class=\"dataframe\">\n",
       "  <thead>\n",
       "    <tr style=\"text-align: right;\">\n",
       "      <th></th>\n",
       "      <th>Params</th>\n",
       "      <th>Results</th>\n",
       "    </tr>\n",
       "  </thead>\n",
       "  <tbody>\n",
       "    <tr>\n",
       "      <th>useActiveDendrites</th>\n",
       "      <td>True</td>\n",
       "      <td>NaN</td>\n",
       "    </tr>\n",
       "    <tr>\n",
       "      <th>randomSeed</th>\n",
       "      <td>100511</td>\n",
       "      <td>NaN</td>\n",
       "    </tr>\n",
       "    <tr>\n",
       "      <th>collectAndSaveDVTs</th>\n",
       "      <td>True</td>\n",
       "      <td>NaN</td>\n",
       "    </tr>\n",
       "    <tr>\n",
       "      <th>numOutputSpikesPerSim</th>\n",
       "      <td>[5, 7, 0, 0, 0, 12, 0, 0, 0, 2, 31, 8, 6, 19, ...</td>\n",
       "      <td>NaN</td>\n",
       "    </tr>\n",
       "    <tr>\n",
       "      <th>averageOutputFrequency</th>\n",
       "      <td>0.776042</td>\n",
       "      <td>NaN</td>\n",
       "    </tr>\n",
       "    <tr>\n",
       "      <th>numSimulations</th>\n",
       "      <td>128</td>\n",
       "      <td>NaN</td>\n",
       "    </tr>\n",
       "    <tr>\n",
       "      <th>totalSimDurationInSec</th>\n",
       "      <td>6</td>\n",
       "      <td>NaN</td>\n",
       "    </tr>\n",
       "    <tr>\n",
       "      <th>num_bas_ex_spikes_per_100ms_range</th>\n",
       "      <td>[0, 750]</td>\n",
       "      <td>NaN</td>\n",
       "    </tr>\n",
       "    <tr>\n",
       "      <th>totalNumSimulationSeconds</th>\n",
       "      <td>768</td>\n",
       "      <td>NaN</td>\n",
       "    </tr>\n",
       "    <tr>\n",
       "      <th>allSegmentsLength</th>\n",
       "      <td>[24.200878230108255, 15.18219623504249, 21.664...</td>\n",
       "      <td>NaN</td>\n",
       "    </tr>\n",
       "    <tr>\n",
       "      <th>allSegments_SectionInd</th>\n",
       "      <td>[0, 1, 2, 2, 2, 2, 2, 2, 2, 3, 4, 4, 4, 4, 4, ...</td>\n",
       "      <td>NaN</td>\n",
       "    </tr>\n",
       "    <tr>\n",
       "      <th>ISICV</th>\n",
       "      <td>1.86243</td>\n",
       "      <td>NaN</td>\n",
       "    </tr>\n",
       "    <tr>\n",
       "      <th>allSegments_SectionDistFromSoma</th>\n",
       "      <td>[11.584681059280044, 35.7855592893883, 50.9677...</td>\n",
       "      <td>NaN</td>\n",
       "    </tr>\n",
       "    <tr>\n",
       "      <th>inhibitorySynapseType</th>\n",
       "      <td>GABA_A</td>\n",
       "      <td>NaN</td>\n",
       "    </tr>\n",
       "    <tr>\n",
       "      <th>excitatorySynapseType</th>\n",
       "      <td>NMDA</td>\n",
       "      <td>NaN</td>\n",
       "    </tr>\n",
       "    <tr>\n",
       "      <th>num_apic_ex_inh_spike_diff_per_100ms_range</th>\n",
       "      <td>[-550, 200]</td>\n",
       "      <td>NaN</td>\n",
       "    </tr>\n",
       "    <tr>\n",
       "      <th>allSectionsType</th>\n",
       "      <td>[basal, basal, basal, basal, basal, basal, bas...</td>\n",
       "      <td>NaN</td>\n",
       "    </tr>\n",
       "    <tr>\n",
       "      <th>allSectionsLength</th>\n",
       "      <td>[24.200878230108255, 15.18219623504249, 151.65...</td>\n",
       "      <td>NaN</td>\n",
       "    </tr>\n",
       "    <tr>\n",
       "      <th>allSections_DistFromSoma</th>\n",
       "      <td>[11.584681059280044, 35.7855592893883, 50.9677...</td>\n",
       "      <td>NaN</td>\n",
       "    </tr>\n",
       "    <tr>\n",
       "      <th>numSamplesPerMS_HighRes</th>\n",
       "      <td>8</td>\n",
       "      <td>NaN</td>\n",
       "    </tr>\n",
       "    <tr>\n",
       "      <th>allSegments_DistFromSoma</th>\n",
       "      <td>[23.685120174334173, 43.376657406909544, 61.79...</td>\n",
       "      <td>NaN</td>\n",
       "    </tr>\n",
       "    <tr>\n",
       "      <th>allSegmentsType</th>\n",
       "      <td>[basal, basal, basal, basal, basal, basal, bas...</td>\n",
       "      <td>NaN</td>\n",
       "    </tr>\n",
       "    <tr>\n",
       "      <th>listOfISIs</th>\n",
       "      <td>[329.125, 12.125, 3480.125, 696.125, 9.875, 8....</td>\n",
       "      <td>NaN</td>\n",
       "    </tr>\n",
       "    <tr>\n",
       "      <th>inst_rate_sampling_time_interval_options_ms</th>\n",
       "      <td>[25, 30, 35, 40, 45, 55, 60, 65, 70, 75, 80, 8...</td>\n",
       "      <td>NaN</td>\n",
       "    </tr>\n",
       "    <tr>\n",
       "      <th>entireExperimentDurationInMinutes</th>\n",
       "      <td>487.956</td>\n",
       "      <td>NaN</td>\n",
       "    </tr>\n",
       "    <tr>\n",
       "      <th>Ih_vshift</th>\n",
       "      <td>0</td>\n",
       "      <td>NaN</td>\n",
       "    </tr>\n",
       "    <tr>\n",
       "      <th>num_bas_ex_inh_spike_diff_per_100ms_range</th>\n",
       "      <td>[-550, 200]</td>\n",
       "      <td>NaN</td>\n",
       "    </tr>\n",
       "    <tr>\n",
       "      <th>totalNumOutputSpikes</th>\n",
       "      <td>596</td>\n",
       "      <td>NaN</td>\n",
       "    </tr>\n",
       "    <tr>\n",
       "      <th>num_apic_ex_spikes_per_100ms_range</th>\n",
       "      <td>[0, 800]</td>\n",
       "      <td>NaN</td>\n",
       "    </tr>\n",
       "    <tr>\n",
       "      <th>listOfSingleSimulationDicts</th>\n",
       "      <td>NaN</td>\n",
       "      <td>[{'recordingTimeHighRes': [0.0, 0.125, 0.25, 0...</td>\n",
       "    </tr>\n",
       "  </tbody>\n",
       "</table>\n",
       "</div>"
      ],
      "text/plain": [
       "                                                                                        Params  \\\n",
       "useActiveDendrites                                                                        True   \n",
       "randomSeed                                                                              100511   \n",
       "collectAndSaveDVTs                                                                        True   \n",
       "numOutputSpikesPerSim                        [5, 7, 0, 0, 0, 12, 0, 0, 0, 2, 31, 8, 6, 19, ...   \n",
       "averageOutputFrequency                                                                0.776042   \n",
       "numSimulations                                                                             128   \n",
       "totalSimDurationInSec                                                                        6   \n",
       "num_bas_ex_spikes_per_100ms_range                                                     [0, 750]   \n",
       "totalNumSimulationSeconds                                                                  768   \n",
       "allSegmentsLength                            [24.200878230108255, 15.18219623504249, 21.664...   \n",
       "allSegments_SectionInd                       [0, 1, 2, 2, 2, 2, 2, 2, 2, 3, 4, 4, 4, 4, 4, ...   \n",
       "ISICV                                                                                  1.86243   \n",
       "allSegments_SectionDistFromSoma              [11.584681059280044, 35.7855592893883, 50.9677...   \n",
       "inhibitorySynapseType                                                                   GABA_A   \n",
       "excitatorySynapseType                                                                     NMDA   \n",
       "num_apic_ex_inh_spike_diff_per_100ms_range                                         [-550, 200]   \n",
       "allSectionsType                              [basal, basal, basal, basal, basal, basal, bas...   \n",
       "allSectionsLength                            [24.200878230108255, 15.18219623504249, 151.65...   \n",
       "allSections_DistFromSoma                     [11.584681059280044, 35.7855592893883, 50.9677...   \n",
       "numSamplesPerMS_HighRes                                                                      8   \n",
       "allSegments_DistFromSoma                     [23.685120174334173, 43.376657406909544, 61.79...   \n",
       "allSegmentsType                              [basal, basal, basal, basal, basal, basal, bas...   \n",
       "listOfISIs                                   [329.125, 12.125, 3480.125, 696.125, 9.875, 8....   \n",
       "inst_rate_sampling_time_interval_options_ms  [25, 30, 35, 40, 45, 55, 60, 65, 70, 75, 80, 8...   \n",
       "entireExperimentDurationInMinutes                                                      487.956   \n",
       "Ih_vshift                                                                                    0   \n",
       "num_bas_ex_inh_spike_diff_per_100ms_range                                          [-550, 200]   \n",
       "totalNumOutputSpikes                                                                       596   \n",
       "num_apic_ex_spikes_per_100ms_range                                                    [0, 800]   \n",
       "listOfSingleSimulationDicts                                                                NaN   \n",
       "\n",
       "                                                                                       Results  \n",
       "useActiveDendrites                                                                         NaN  \n",
       "randomSeed                                                                                 NaN  \n",
       "collectAndSaveDVTs                                                                         NaN  \n",
       "numOutputSpikesPerSim                                                                      NaN  \n",
       "averageOutputFrequency                                                                     NaN  \n",
       "numSimulations                                                                             NaN  \n",
       "totalSimDurationInSec                                                                      NaN  \n",
       "num_bas_ex_spikes_per_100ms_range                                                          NaN  \n",
       "totalNumSimulationSeconds                                                                  NaN  \n",
       "allSegmentsLength                                                                          NaN  \n",
       "allSegments_SectionInd                                                                     NaN  \n",
       "ISICV                                                                                      NaN  \n",
       "allSegments_SectionDistFromSoma                                                            NaN  \n",
       "inhibitorySynapseType                                                                      NaN  \n",
       "excitatorySynapseType                                                                      NaN  \n",
       "num_apic_ex_inh_spike_diff_per_100ms_range                                                 NaN  \n",
       "allSectionsType                                                                            NaN  \n",
       "allSectionsLength                                                                          NaN  \n",
       "allSections_DistFromSoma                                                                   NaN  \n",
       "numSamplesPerMS_HighRes                                                                    NaN  \n",
       "allSegments_DistFromSoma                                                                   NaN  \n",
       "allSegmentsType                                                                            NaN  \n",
       "listOfISIs                                                                                 NaN  \n",
       "inst_rate_sampling_time_interval_options_ms                                                NaN  \n",
       "entireExperimentDurationInMinutes                                                          NaN  \n",
       "Ih_vshift                                                                                  NaN  \n",
       "num_bas_ex_inh_spike_diff_per_100ms_range                                                  NaN  \n",
       "totalNumOutputSpikes                                                                       NaN  \n",
       "num_apic_ex_spikes_per_100ms_range                                                         NaN  \n",
       "listOfSingleSimulationDicts                  [{'recordingTimeHighRes': [0.0, 0.125, 0.25, 0...  "
      ]
     },
     "execution_count": 5,
     "metadata": {},
     "output_type": "execute_result"
    }
   ],
   "source": [
    "experiment_dict.keys()\n",
    "df = pd.DataFrame(experiment_dict)\n",
    "df"
   ]
  },
  {
   "cell_type": "code",
   "execution_count": null,
   "metadata": {},
   "outputs": [],
   "source": []
  },
  {
   "cell_type": "markdown",
   "metadata": {},
   "source": [
    "# Definitions for opening files"
   ]
  },
  {
   "cell_type": "code",
   "execution_count": 7,
   "metadata": {},
   "outputs": [],
   "source": [
    "def large_dataframe(file):\n",
    "    experiment_dict = pickle.load(open(file, \"rb\"), encoding='latin1')\n",
    "    df = pd.DataFrame(experiment_dict)\n",
    "    df.drop('Results', inplace=True, axis=1)\n",
    "    df = df.loc[['allSegmentsType', 'allSegmentsLength', 'allSegments_SectionInd', 'allSegments_DistFromSoma', 'allSegments_SectionDistFromSoma']]\n",
    "    df = df.T.apply(pd.Series.explode).reset_index()\n",
    "    df.drop('index', inplace=True, axis=1)\n",
    "    return df\n",
    "\n",
    "def small_dataframe(file):\n",
    "    experiment_dict = pickle.load(open(file, \"rb\"), encoding='latin1')\n",
    "    df = pd.DataFrame(experiment_dict)\n",
    "    df.drop('Results', inplace=True, axis=1)\n",
    "    df = df.loc[['allSectionsType', 'allSectionsLength', 'allSections_DistFromSoma']]\n",
    "    df = df.T.apply(pd.Series.explode).reset_index()\n",
    "    df.drop('index', inplace=True, axis=1)\n",
    "    return df\n",
    "\n",
    "def whole_dataframe(file):\n",
    "    experiment_dict = pickle.load(open(file, \"rb\"), encoding='latin1')\n",
    "    df = pd.DataFrame(experiment_dict)\n",
    "    df.drop('Results', inplace=True, axis=1)\n",
    "    df = df.loc[['allSectionsType', 'allSectionsLength', 'allSections_DistFromSoma', 'allSegmentsType', 'allSegmentsLength', 'allSegments_SectionInd', 'allSegments_DistFromSoma', 'allSegments_SectionDistFromSoma']]\n",
    "    df = df.T.apply(pd.Series.explode)\n",
    "\n",
    "    return df\n",
    "#df_sub = df.loc[['allSectionsType', 'allSectionsLength', 'allSections_DistFromSoma']]\n",
    "\n",
    "#df_sub.T.apply(pd.Series.explode).reset_index()\n",
    "# stratify on column for basal/apical - use labelencoder"
   ]
  },
  {
   "cell_type": "code",
   "execution_count": 8,
   "metadata": {},
   "outputs": [],
   "source": [
    "def multi_df(files, opener):\n",
    "    lst_df = []\n",
    "    for file in files:\n",
    "        lst_df.append(opener(file))\n",
    "        \n",
    "    return pd.concat(lst_df)\n",
    "\n"
   ]
  },
  {
   "cell_type": "code",
   "execution_count": 9,
   "metadata": {},
   "outputs": [
    {
     "data": {
      "text/plain": [
       "'testing = test_files[:3]\\ndfs = multi_df(testing)'"
      ]
     },
     "execution_count": 9,
     "metadata": {},
     "output_type": "execute_result"
    }
   ],
   "source": [
    "'''testing = test_files[:3]\n",
    "dfs = multi_df(testing)''' #testing the definitions"
   ]
  },
  {
   "cell_type": "code",
   "execution_count": 10,
   "metadata": {},
   "outputs": [],
   "source": [
    "#whole_df = multi_df(test_files, whole_dataframe)"
   ]
  },
  {
   "cell_type": "markdown",
   "metadata": {},
   "source": [
    "# Creating the Dataframes"
   ]
  },
  {
   "cell_type": "code",
   "execution_count": null,
   "metadata": {},
   "outputs": [],
   "source": [
    "dfs = multi_df(test_files, large_dataframe)"
   ]
  },
  {
   "cell_type": "code",
   "execution_count": 86,
   "metadata": {},
   "outputs": [
    {
     "data": {
      "text/html": [
       "<div>\n",
       "<style scoped>\n",
       "    .dataframe tbody tr th:only-of-type {\n",
       "        vertical-align: middle;\n",
       "    }\n",
       "\n",
       "    .dataframe tbody tr th {\n",
       "        vertical-align: top;\n",
       "    }\n",
       "\n",
       "    .dataframe thead th {\n",
       "        text-align: right;\n",
       "    }\n",
       "</style>\n",
       "<table border=\"1\" class=\"dataframe\">\n",
       "  <thead>\n",
       "    <tr style=\"text-align: right;\">\n",
       "      <th></th>\n",
       "      <th>allSegmentsType</th>\n",
       "      <th>allSegmentsLength</th>\n",
       "      <th>allSegments_SectionInd</th>\n",
       "      <th>allSegments_DistFromSoma</th>\n",
       "      <th>allSegments_SectionDistFromSoma</th>\n",
       "    </tr>\n",
       "  </thead>\n",
       "  <tbody>\n",
       "    <tr>\n",
       "      <th>0</th>\n",
       "      <td>basal</td>\n",
       "      <td>24.2009</td>\n",
       "      <td>0</td>\n",
       "      <td>23.6851</td>\n",
       "      <td>11.5847</td>\n",
       "    </tr>\n",
       "    <tr>\n",
       "      <th>1</th>\n",
       "      <td>basal</td>\n",
       "      <td>15.1822</td>\n",
       "      <td>1</td>\n",
       "      <td>43.3767</td>\n",
       "      <td>35.7856</td>\n",
       "    </tr>\n",
       "    <tr>\n",
       "      <th>2</th>\n",
       "      <td>basal</td>\n",
       "      <td>21.6644</td>\n",
       "      <td>2</td>\n",
       "      <td>61.8</td>\n",
       "      <td>50.9678</td>\n",
       "    </tr>\n",
       "    <tr>\n",
       "      <th>3</th>\n",
       "      <td>basal</td>\n",
       "      <td>21.6644</td>\n",
       "      <td>2</td>\n",
       "      <td>83.4644</td>\n",
       "      <td>50.9678</td>\n",
       "    </tr>\n",
       "    <tr>\n",
       "      <th>4</th>\n",
       "      <td>basal</td>\n",
       "      <td>21.6644</td>\n",
       "      <td>2</td>\n",
       "      <td>105.129</td>\n",
       "      <td>50.9678</td>\n",
       "    </tr>\n",
       "    <tr>\n",
       "      <th>...</th>\n",
       "      <td>...</td>\n",
       "      <td>...</td>\n",
       "      <td>...</td>\n",
       "      <td>...</td>\n",
       "      <td>...</td>\n",
       "    </tr>\n",
       "    <tr>\n",
       "      <th>634</th>\n",
       "      <td>apical</td>\n",
       "      <td>18.7358</td>\n",
       "      <td>189</td>\n",
       "      <td>146.64</td>\n",
       "      <td>81.0646</td>\n",
       "    </tr>\n",
       "    <tr>\n",
       "      <th>635</th>\n",
       "      <td>apical</td>\n",
       "      <td>18.7358</td>\n",
       "      <td>189</td>\n",
       "      <td>165.375</td>\n",
       "      <td>81.0646</td>\n",
       "    </tr>\n",
       "    <tr>\n",
       "      <th>636</th>\n",
       "      <td>apical</td>\n",
       "      <td>22.0852</td>\n",
       "      <td>190</td>\n",
       "      <td>92.1071</td>\n",
       "      <td>81.0646</td>\n",
       "    </tr>\n",
       "    <tr>\n",
       "      <th>637</th>\n",
       "      <td>apical</td>\n",
       "      <td>36.0978</td>\n",
       "      <td>191</td>\n",
       "      <td>121.199</td>\n",
       "      <td>103.15</td>\n",
       "    </tr>\n",
       "    <tr>\n",
       "      <th>638</th>\n",
       "      <td>apical</td>\n",
       "      <td>30.0747</td>\n",
       "      <td>192</td>\n",
       "      <td>118.187</td>\n",
       "      <td>103.15</td>\n",
       "    </tr>\n",
       "  </tbody>\n",
       "</table>\n",
       "<p>7668 rows × 5 columns</p>\n",
       "</div>"
      ],
      "text/plain": [
       "    allSegmentsType allSegmentsLength allSegments_SectionInd  \\\n",
       "0             basal           24.2009                      0   \n",
       "1             basal           15.1822                      1   \n",
       "2             basal           21.6644                      2   \n",
       "3             basal           21.6644                      2   \n",
       "4             basal           21.6644                      2   \n",
       "..              ...               ...                    ...   \n",
       "634          apical           18.7358                    189   \n",
       "635          apical           18.7358                    189   \n",
       "636          apical           22.0852                    190   \n",
       "637          apical           36.0978                    191   \n",
       "638          apical           30.0747                    192   \n",
       "\n",
       "    allSegments_DistFromSoma allSegments_SectionDistFromSoma  \n",
       "0                    23.6851                         11.5847  \n",
       "1                    43.3767                         35.7856  \n",
       "2                       61.8                         50.9678  \n",
       "3                    83.4644                         50.9678  \n",
       "4                    105.129                         50.9678  \n",
       "..                       ...                             ...  \n",
       "634                   146.64                         81.0646  \n",
       "635                  165.375                         81.0646  \n",
       "636                  92.1071                         81.0646  \n",
       "637                  121.199                          103.15  \n",
       "638                  118.187                          103.15  \n",
       "\n",
       "[7668 rows x 5 columns]"
      ]
     },
     "execution_count": 86,
     "metadata": {},
     "output_type": "execute_result"
    }
   ],
   "source": [
    "dfs"
   ]
  },
  {
   "cell_type": "code",
   "execution_count": 88,
   "metadata": {},
   "outputs": [],
   "source": [
    "df_193 = multi_df(test_files, small_dataframe)"
   ]
  },
  {
   "cell_type": "code",
   "execution_count": 116,
   "metadata": {},
   "outputs": [],
   "source": [
    "dfs['idx'] = dfs['allSegments_SectionInd']\n",
    "dfs.drop('allSegments_SectionDistFromSoma', inplace = True, axis=1)\n",
    "dfs.drop('allSegments_SectionInd', inplace = True, axis=1)\n",
    "df_193['idx'] = df_193.index\n",
    "#dfs.rename(columns={'index':'idx'}, inplace=True)\n",
    "df_193.rename(columns={'index':'idx'}, inplace=True)\n",
    "\n",
    "\n",
    "# dfs = iterates through 639 items - Segments - I have a column that shows the idx of df_193\n",
    "# df_193 = iterates through 193 items - Sections\n",
    "#df_193.drop('allSectionsLength', inplace = True, axis=1)"
   ]
  },
  {
   "cell_type": "code",
   "execution_count": 117,
   "metadata": {},
   "outputs": [],
   "source": [
    "\n",
    "dfs['idx']=dfs['idx'].astype(float).astype(int)\n",
    "\n",
    "df_m = dfs.merge(df_193.drop_duplicates(), how= 'inner', left_on=['idx'],right_on =['idx'])\n",
    "#test10 = dfs.join(df_193.set_index('idx'), on='idx')\n",
    "#test10 = pd.merge_ordered(dfs, df_193, fill_method=\"ffill\", left_by=\"idx\")\n"
   ]
  },
  {
   "cell_type": "code",
   "execution_count": 118,
   "metadata": {},
   "outputs": [],
   "source": [
    "df_m.drop('idx', inplace = True, axis=1)"
   ]
  },
  {
   "cell_type": "code",
   "execution_count": 119,
   "metadata": {},
   "outputs": [],
   "source": [
    "df_m.drop('allSectionsType', inplace = True, axis=1)"
   ]
  },
  {
   "cell_type": "code",
   "execution_count": 166,
   "metadata": {},
   "outputs": [],
   "source": [
    "le = LabelEncoder()\n",
    "df_m['allSegmentsType'] = le.fit_transform(df_m['allSegmentsType'])\n",
    "#1 = Basal\n",
    "#0 = apical\n",
    "df_x = df_m.copy(deep=True)\n"
   ]
  },
  {
   "cell_type": "code",
   "execution_count": 121,
   "metadata": {},
   "outputs": [],
   "source": [
    "val0 = df_m[df_m['allSegmentsType'] == 0] #4524"
   ]
  },
  {
   "cell_type": "code",
   "execution_count": 174,
   "metadata": {},
   "outputs": [
    {
     "data": {
      "text/plain": [
       "0    4524\n",
       "1    3144\n",
       "Name: allSegmentsType, dtype: int64"
      ]
     },
     "execution_count": 174,
     "metadata": {},
     "output_type": "execute_result"
    }
   ],
   "source": [
    "y = df_m['allSegmentsType']\n",
    "y.value_counts()"
   ]
  },
  {
   "cell_type": "code",
   "execution_count": 167,
   "metadata": {},
   "outputs": [],
   "source": [
    "df_x.drop('allSegmentsType', inplace = True, axis=1)"
   ]
  },
  {
   "cell_type": "code",
   "execution_count": 124,
   "metadata": {},
   "outputs": [],
   "source": [
    "X = df_x\n"
   ]
  },
  {
   "cell_type": "markdown",
   "metadata": {},
   "source": [
    "# Logistic Regression - Baseline"
   ]
  },
  {
   "cell_type": "code",
   "execution_count": 125,
   "metadata": {},
   "outputs": [
    {
     "data": {
      "text/html": [
       "<div>\n",
       "<style scoped>\n",
       "    .dataframe tbody tr th:only-of-type {\n",
       "        vertical-align: middle;\n",
       "    }\n",
       "\n",
       "    .dataframe tbody tr th {\n",
       "        vertical-align: top;\n",
       "    }\n",
       "\n",
       "    .dataframe thead th {\n",
       "        text-align: right;\n",
       "    }\n",
       "</style>\n",
       "<table border=\"1\" class=\"dataframe\">\n",
       "  <thead>\n",
       "    <tr style=\"text-align: right;\">\n",
       "      <th></th>\n",
       "      <th>allSegmentsLength</th>\n",
       "      <th>allSegments_DistFromSoma</th>\n",
       "      <th>allSectionsLength</th>\n",
       "      <th>allSections_DistFromSoma</th>\n",
       "    </tr>\n",
       "  </thead>\n",
       "  <tbody>\n",
       "    <tr>\n",
       "      <th>0</th>\n",
       "      <td>24.2009</td>\n",
       "      <td>23.6851</td>\n",
       "      <td>24.2009</td>\n",
       "      <td>11.5847</td>\n",
       "    </tr>\n",
       "    <tr>\n",
       "      <th>1</th>\n",
       "      <td>24.2009</td>\n",
       "      <td>23.6851</td>\n",
       "      <td>24.2009</td>\n",
       "      <td>11.5847</td>\n",
       "    </tr>\n",
       "    <tr>\n",
       "      <th>2</th>\n",
       "      <td>24.2009</td>\n",
       "      <td>23.6851</td>\n",
       "      <td>24.2009</td>\n",
       "      <td>11.5847</td>\n",
       "    </tr>\n",
       "    <tr>\n",
       "      <th>3</th>\n",
       "      <td>24.2009</td>\n",
       "      <td>23.6851</td>\n",
       "      <td>24.2009</td>\n",
       "      <td>11.5847</td>\n",
       "    </tr>\n",
       "    <tr>\n",
       "      <th>4</th>\n",
       "      <td>24.2009</td>\n",
       "      <td>23.6851</td>\n",
       "      <td>24.2009</td>\n",
       "      <td>11.5847</td>\n",
       "    </tr>\n",
       "    <tr>\n",
       "      <th>...</th>\n",
       "      <td>...</td>\n",
       "      <td>...</td>\n",
       "      <td>...</td>\n",
       "      <td>...</td>\n",
       "    </tr>\n",
       "    <tr>\n",
       "      <th>7663</th>\n",
       "      <td>30.0747</td>\n",
       "      <td>118.187</td>\n",
       "      <td>30.0747</td>\n",
       "      <td>103.15</td>\n",
       "    </tr>\n",
       "    <tr>\n",
       "      <th>7664</th>\n",
       "      <td>30.0747</td>\n",
       "      <td>118.187</td>\n",
       "      <td>30.0747</td>\n",
       "      <td>103.15</td>\n",
       "    </tr>\n",
       "    <tr>\n",
       "      <th>7665</th>\n",
       "      <td>30.0747</td>\n",
       "      <td>118.187</td>\n",
       "      <td>30.0747</td>\n",
       "      <td>103.15</td>\n",
       "    </tr>\n",
       "    <tr>\n",
       "      <th>7666</th>\n",
       "      <td>30.0747</td>\n",
       "      <td>118.187</td>\n",
       "      <td>30.0747</td>\n",
       "      <td>103.15</td>\n",
       "    </tr>\n",
       "    <tr>\n",
       "      <th>7667</th>\n",
       "      <td>30.0747</td>\n",
       "      <td>118.187</td>\n",
       "      <td>30.0747</td>\n",
       "      <td>103.15</td>\n",
       "    </tr>\n",
       "  </tbody>\n",
       "</table>\n",
       "<p>7668 rows × 4 columns</p>\n",
       "</div>"
      ],
      "text/plain": [
       "     allSegmentsLength allSegments_DistFromSoma allSectionsLength  \\\n",
       "0              24.2009                  23.6851           24.2009   \n",
       "1              24.2009                  23.6851           24.2009   \n",
       "2              24.2009                  23.6851           24.2009   \n",
       "3              24.2009                  23.6851           24.2009   \n",
       "4              24.2009                  23.6851           24.2009   \n",
       "...                ...                      ...               ...   \n",
       "7663           30.0747                  118.187           30.0747   \n",
       "7664           30.0747                  118.187           30.0747   \n",
       "7665           30.0747                  118.187           30.0747   \n",
       "7666           30.0747                  118.187           30.0747   \n",
       "7667           30.0747                  118.187           30.0747   \n",
       "\n",
       "     allSections_DistFromSoma  \n",
       "0                     11.5847  \n",
       "1                     11.5847  \n",
       "2                     11.5847  \n",
       "3                     11.5847  \n",
       "4                     11.5847  \n",
       "...                       ...  \n",
       "7663                   103.15  \n",
       "7664                   103.15  \n",
       "7665                   103.15  \n",
       "7666                   103.15  \n",
       "7667                   103.15  \n",
       "\n",
       "[7668 rows x 4 columns]"
      ]
     },
     "execution_count": 125,
     "metadata": {},
     "output_type": "execute_result"
    }
   ],
   "source": [
    "X"
   ]
  },
  {
   "cell_type": "code",
   "execution_count": 126,
   "metadata": {},
   "outputs": [],
   "source": [
    "X_train, X_test, y_train, y_test = train_test_split(X, y,test_size=0.20)"
   ]
  },
  {
   "cell_type": "code",
   "execution_count": 127,
   "metadata": {},
   "outputs": [],
   "source": [
    "lr = LogisticRegression()\n",
    "model = lr.fit(X_train, y_train)"
   ]
  },
  {
   "cell_type": "code",
   "execution_count": 128,
   "metadata": {},
   "outputs": [
    {
     "data": {
      "text/plain": [
       "0.969361147327249"
      ]
     },
     "execution_count": 128,
     "metadata": {},
     "output_type": "execute_result"
    }
   ],
   "source": [
    "(model.predict(X_test) == y_test).mean()"
   ]
  },
  {
   "cell_type": "code",
   "execution_count": 129,
   "metadata": {},
   "outputs": [
    {
     "data": {
      "text/plain": [
       "array([0, 1])"
      ]
     },
     "execution_count": 129,
     "metadata": {},
     "output_type": "execute_result"
    }
   ],
   "source": [
    "model.classes_"
   ]
  },
  {
   "cell_type": "code",
   "execution_count": 130,
   "metadata": {},
   "outputs": [
    {
     "data": {
      "text/plain": [
       "array([7.27113803])"
      ]
     },
     "execution_count": 130,
     "metadata": {},
     "output_type": "execute_result"
    }
   ],
   "source": [
    "model.intercept_"
   ]
  },
  {
   "cell_type": "code",
   "execution_count": 131,
   "metadata": {},
   "outputs": [
    {
     "data": {
      "text/plain": [
       "array([[-0.06832008,  0.00121829,  0.01218683, -0.05697844]])"
      ]
     },
     "execution_count": 131,
     "metadata": {},
     "output_type": "execute_result"
    }
   ],
   "source": [
    "model.coef_"
   ]
  },
  {
   "cell_type": "code",
   "execution_count": 132,
   "metadata": {},
   "outputs": [
    {
     "data": {
      "text/plain": [
       "array([[9.99909451e-01, 9.05493134e-05],\n",
       "       [9.99999614e-01, 3.85557597e-07],\n",
       "       [1.00000000e+00, 5.94193002e-14],\n",
       "       ...,\n",
       "       [4.08037149e-02, 9.59196285e-01],\n",
       "       [9.91219797e-01, 8.78020314e-03],\n",
       "       [9.99999629e-01, 3.71060742e-07]])"
      ]
     },
     "execution_count": 132,
     "metadata": {},
     "output_type": "execute_result"
    }
   ],
   "source": [
    "model.predict_proba(X_train)"
   ]
  },
  {
   "cell_type": "code",
   "execution_count": 133,
   "metadata": {},
   "outputs": [
    {
     "data": {
      "text/plain": [
       "array([0, 0, 0, ..., 0, 0, 0])"
      ]
     },
     "execution_count": 133,
     "metadata": {},
     "output_type": "execute_result"
    }
   ],
   "source": [
    "model.predict(X_test)"
   ]
  },
  {
   "cell_type": "code",
   "execution_count": 134,
   "metadata": {},
   "outputs": [
    {
     "data": {
      "text/plain": [
       "0.969361147327249"
      ]
     },
     "execution_count": 134,
     "metadata": {},
     "output_type": "execute_result"
    }
   ],
   "source": [
    "model.score(X_test, y_test)"
   ]
  },
  {
   "cell_type": "code",
   "execution_count": 135,
   "metadata": {},
   "outputs": [
    {
     "data": {
      "text/plain": [
       "0.969361147327249"
      ]
     },
     "execution_count": 135,
     "metadata": {},
     "output_type": "execute_result"
    }
   ],
   "source": [
    "model.score(X_test, y_test)"
   ]
  },
  {
   "cell_type": "code",
   "execution_count": 136,
   "metadata": {},
   "outputs": [
    {
     "data": {
      "text/plain": [
       "array([[873,  40],\n",
       "       [  7, 614]])"
      ]
     },
     "execution_count": 136,
     "metadata": {},
     "output_type": "execute_result"
    }
   ],
   "source": [
    "confusion_matrix(y_test, model.predict(X_test))"
   ]
  },
  {
   "cell_type": "code",
   "execution_count": 137,
   "metadata": {},
   "outputs": [
    {
     "data": {
      "text/plain": [
       "array([[3495,  116],\n",
       "       [  17, 2506]])"
      ]
     },
     "execution_count": 137,
     "metadata": {},
     "output_type": "execute_result"
    }
   ],
   "source": [
    "confusion_matrix(y_train, model.predict(X_train))"
   ]
  },
  {
   "cell_type": "markdown",
   "metadata": {},
   "source": [
    "-True negatives in the upper-left position\n",
    "\n",
    "-False negatives in the lower-left position\n",
    "\n",
    "-False positives in the upper-right position\n",
    "\n",
    "-True positives in the lower-right position"
   ]
  },
  {
   "cell_type": "code",
   "execution_count": 138,
   "metadata": {},
   "outputs": [
    {
     "data": {
      "image/png": "[encoded data removed]",
      "text/plain": [
       "<Figure size 432x288 with 2 Axes>"
      ]
     },
     "metadata": {
      "needs_background": "light"
     },
     "output_type": "display_data"
    }
   ],
   "source": [
    " \n",
    "labels = ['Apical', 'Basal']\n",
    "plot_confusion_matrix(model, X_test, y_test)\n",
    "\n",
    "plt.xticks(np.arange(2), labels) \n",
    "plt.yticks(np.arange(2), labels) \n",
    "plt.xlabel('Predicted')\n",
    "plt.ylabel('True')\n",
    "plt.show()"
   ]
  },
  {
   "cell_type": "code",
   "execution_count": 139,
   "metadata": {},
   "outputs": [
    {
     "name": "stdout",
     "output_type": "stream",
     "text": [
      "              precision    recall  f1-score   support\n",
      "\n",
      "           0       1.00      0.97      0.98      3611\n",
      "           1       0.96      0.99      0.97      2523\n",
      "\n",
      "    accuracy                           0.98      6134\n",
      "   macro avg       0.98      0.98      0.98      6134\n",
      "weighted avg       0.98      0.98      0.98      6134\n",
      "\n"
     ]
    }
   ],
   "source": [
    "print(classification_report(y_train, model.predict(X_train)))"
   ]
  },
  {
   "cell_type": "code",
   "execution_count": 140,
   "metadata": {},
   "outputs": [
    {
     "name": "stdout",
     "output_type": "stream",
     "text": [
      "              precision    recall  f1-score   support\n",
      "\n",
      "           0       0.99      0.96      0.97       913\n",
      "           1       0.94      0.99      0.96       621\n",
      "\n",
      "    accuracy                           0.97      1534\n",
      "   macro avg       0.97      0.97      0.97      1534\n",
      "weighted avg       0.97      0.97      0.97      1534\n",
      "\n"
     ]
    }
   ],
   "source": [
    "print(classification_report(y_test, model.predict(X_test)))"
   ]
  },
  {
   "cell_type": "markdown",
   "metadata": {},
   "source": [
    "# Logistic Regression with Cross-Validation\n"
   ]
  },
  {
   "cell_type": "code",
   "execution_count": 141,
   "metadata": {},
   "outputs": [
    {
     "data": {
      "text/plain": [
       "array([0, 0, 0, ..., 0, 0, 0])"
      ]
     },
     "execution_count": 141,
     "metadata": {},
     "output_type": "execute_result"
    }
   ],
   "source": [
    "from sklearn.linear_model import LogisticRegressionCV\n",
    "\n",
    "X_train_cv, X_test_cv, y_train_cv, y_test_cv = train_test_split(X, y,test_size=0.33)\n",
    "\n",
    "clf = LogisticRegressionCV(cv=5, random_state=0).fit(X_train, y_train)\n",
    "clf.predict(X_test)"
   ]
  },
  {
   "cell_type": "code",
   "execution_count": 142,
   "metadata": {},
   "outputs": [
    {
     "data": {
      "text/plain": [
       "0.969361147327249"
      ]
     },
     "execution_count": 142,
     "metadata": {},
     "output_type": "execute_result"
    }
   ],
   "source": [
    "clf.score(X_test, y_test)"
   ]
  },
  {
   "cell_type": "code",
   "execution_count": 143,
   "metadata": {},
   "outputs": [
    {
     "name": "stdout",
     "output_type": "stream",
     "text": [
      "              precision    recall  f1-score   support\n",
      "\n",
      "           0       0.99      0.96      0.98      1542\n",
      "           1       0.95      0.99      0.97       989\n",
      "\n",
      "    accuracy                           0.98      2531\n",
      "   macro avg       0.97      0.98      0.97      2531\n",
      "weighted avg       0.98      0.98      0.98      2531\n",
      "\n"
     ]
    }
   ],
   "source": [
    "print(classification_report(y_test_cv, model.predict(X_test_cv)))"
   ]
  },
  {
   "cell_type": "code",
   "execution_count": 144,
   "metadata": {},
   "outputs": [],
   "source": [
    "import matplotlib.pyplot as plt\n",
    "from sklearn import metrics\n",
    "from sklearn.metrics import plot_roc_curve,precision_recall_curve, plot_precision_recall_curve"
   ]
  },
  {
   "cell_type": "code",
   "execution_count": 145,
   "metadata": {},
   "outputs": [
    {
     "data": {
      "image/png": "[encoded data removed]",
      "text/plain": [
       "<Figure size 648x360 with 1 Axes>"
      ]
     },
     "metadata": {
      "needs_background": "light"
     },
     "output_type": "display_data"
    },
    {
     "data": {
      "text/plain": [
       "<Figure size 432x288 with 0 Axes>"
      ]
     },
     "metadata": {},
     "output_type": "display_data"
    }
   ],
   "source": [
    "fig, ax = plt.subplots(figsize=(9, 5)) \n",
    "plot_precision_recall_curve(clf, X_test_cv, y_test_cv, ax = plt.gca(), name ='Log Regress w/ Cross-Val' ) \n",
    "\n",
    "plot_precision_recall_curve(model, X_test, y_test,ax = plt.gca(), name = 'Log Regress' ) \n",
    "plt.title('Precision & Recall')\n",
    "plt.show()\n",
    "plt.savefig('../img/precision_recall.png')"
   ]
  },
  {
   "cell_type": "code",
   "execution_count": 146,
   "metadata": {},
   "outputs": [
    {
     "data": {
      "image/png": "[encoded data removed]",
      "text/plain": [
       "<Figure size 648x360 with 1 Axes>"
      ]
     },
     "metadata": {
      "needs_background": "light"
     },
     "output_type": "display_data"
    },
    {
     "data": {
      "text/plain": [
       "<Figure size 432x288 with 0 Axes>"
      ]
     },
     "metadata": {},
     "output_type": "display_data"
    }
   ],
   "source": [
    "fig, ax = plt.subplots(figsize=(9, 5))\n",
    "plot_roc_curve(clf, X_test_cv, y_test_cv, ax=plt.gca(), alpha=0.8, name = 'Log Regession w/ CV ROC')\n",
    "plot_roc_curve(model, X_test, y_test, ax=plt.gca(), alpha=0.8, name = 'Log Regession ROC')\n",
    "plt.title('ROC Curve')\n",
    "plt.show() \n",
    "plt.savefig('../img/roc_curve.png')"
   ]
  },
  {
   "cell_type": "markdown",
   "metadata": {},
   "source": [
    "# Finding K-Means"
   ]
  },
  {
   "cell_type": "code",
   "execution_count": 147,
   "metadata": {},
   "outputs": [],
   "source": [
    "from sklearn.neighbors import KNeighborsClassifier\n",
    "from sklearn.cluster import KMeans\n",
    "from sklearn import metrics\n",
    "from scipy.spatial.distance import cdist\n",
    "import numpy as np\n",
    "import matplotlib.pyplot as plt"
   ]
  },
  {
   "cell_type": "code",
   "execution_count": 148,
   "metadata": {},
   "outputs": [],
   "source": [
    "X_traink, X_testk, y_traink, y_testk = train_test_split(X, y, stratify=y, test_size=0.28)"
   ]
  },
  {
   "cell_type": "code",
   "execution_count": 149,
   "metadata": {},
   "outputs": [],
   "source": [
    "distortions = []\n",
    "inertias = []\n",
    "mapping1 = {}\n",
    "mapping2 = {}\n",
    "K = range(1, 10)\n",
    " \n",
    "for k in K:\n",
    "    kmeanModel = KMeans(n_clusters=k).fit(X_traink)\n",
    "    kmeanModel.fit(X_traink)\n",
    " \n",
    "    distortions.append(sum(np.min(cdist(X, kmeanModel.cluster_centers_,'euclidean'), axis=1)) / X_traink.shape[0])\n",
    "    \n",
    "    inertias.append(kmeanModel.inertia_)\n",
    " \n",
    "    mapping1[k] = sum(np.min(cdist(X_traink, kmeanModel.cluster_centers_, 'euclidean'), axis=1)) / X_traink.shape[0]\n",
    "    mapping2[k] = kmeanModel.inertia_"
   ]
  },
  {
   "cell_type": "markdown",
   "metadata": {},
   "source": [
    "   - Distortion: It is calculated as the average of the squared distances from the cluster centers of the respective clusters. Typically, the Euclidean distance metric is used.\n",
    "   - Inertia: It is the sum of squared distances of samples to their closest cluster center."
   ]
  },
  {
   "cell_type": "code",
   "execution_count": 150,
   "metadata": {},
   "outputs": [
    {
     "data": {
      "image/png": "[encoded data removed]",
      "text/plain": [
       "<Figure size 432x288 with 1 Axes>"
      ]
     },
     "metadata": {
      "needs_background": "light"
     },
     "output_type": "display_data"
    }
   ],
   "source": [
    "\n",
    "plt.plot(K, distortions, 'bx-')\n",
    "plt.xlabel('Values of K')\n",
    "plt.ylabel('Distortion')\n",
    "plt.title('The Elbow Method using Distortion')\n",
    "plt.show()\n",
    "#plt.savefig('../img/elbow_distort.png')"
   ]
  },
  {
   "cell_type": "code",
   "execution_count": 151,
   "metadata": {},
   "outputs": [
    {
     "data": {
      "image/png": "[encoded data removed]",
      "text/plain": [
       "<Figure size 432x288 with 1 Axes>"
      ]
     },
     "metadata": {
      "needs_background": "light"
     },
     "output_type": "display_data"
    }
   ],
   "source": [
    "plt.plot(K, inertias, 'bx-')\n",
    "plt.xlabel('Values of K')\n",
    "plt.ylabel('Inertia')\n",
    "plt.title('The Elbow Method using Inertia')\n",
    "plt.show()\n",
    "#plt.savefig('../img/elbow_inertia.png')"
   ]
  },
  {
   "cell_type": "markdown",
   "metadata": {},
   "source": [
    "# K-Nearest Classifier"
   ]
  },
  {
   "cell_type": "code",
   "execution_count": 152,
   "metadata": {},
   "outputs": [],
   "source": [
    "df_new = dfs.copy(deep=True)\n"
   ]
  },
  {
   "cell_type": "code",
   "execution_count": 153,
   "metadata": {},
   "outputs": [],
   "source": [
    "le = LabelEncoder()\n",
    "df_new['allSegmentsType'] = le.fit_transform(df_new['allSegmentsType'])\n",
    "#1 = Basal\n",
    "#0 = apical\n",
    "df_X = df_new.copy(deep=True)\n",
    "df_X.drop('allSegmentsType', inplace=True, axis=1)\n"
   ]
  },
  {
   "cell_type": "code",
   "execution_count": 154,
   "metadata": {},
   "outputs": [],
   "source": [
    "df_X.drop('idx', inplace=True, axis=1)"
   ]
  },
  {
   "cell_type": "code",
   "execution_count": 155,
   "metadata": {},
   "outputs": [],
   "source": [
    "y_short = df_new['allSegmentsType']"
   ]
  },
  {
   "cell_type": "code",
   "execution_count": 156,
   "metadata": {},
   "outputs": [],
   "source": [
    "X_short = df_X"
   ]
  },
  {
   "cell_type": "code",
   "execution_count": 157,
   "metadata": {},
   "outputs": [],
   "source": [
    "X_trainkc, X_testkc, y_trainkc, y_testkc = train_test_split(X_short, y_short,stratify=y_short, test_size=0.25)"
   ]
  },
  {
   "cell_type": "code",
   "execution_count": 158,
   "metadata": {},
   "outputs": [
    {
     "data": {
      "text/plain": [
       "KNeighborsClassifier(n_neighbors=2)"
      ]
     },
     "execution_count": 158,
     "metadata": {},
     "output_type": "execute_result"
    }
   ],
   "source": [
    "kN = KNeighborsClassifier(n_neighbors=2)\n",
    "kN.fit(X_trainkc, y_trainkc)"
   ]
  },
  {
   "cell_type": "code",
   "execution_count": 159,
   "metadata": {},
   "outputs": [
    {
     "data": {
      "text/plain": [
       "1.0"
      ]
     },
     "execution_count": 159,
     "metadata": {},
     "output_type": "execute_result"
    }
   ],
   "source": [
    "pred = kN.predict(X_testkc)\n",
    "kN.score(X_testkc, y_testkc)"
   ]
  },
  {
   "cell_type": "code",
   "execution_count": 160,
   "metadata": {},
   "outputs": [
    {
     "data": {
      "text/plain": [
       "array([[1131,    0],\n",
       "       [   0,  786]])"
      ]
     },
     "execution_count": 160,
     "metadata": {},
     "output_type": "execute_result"
    }
   ],
   "source": [
    "confusion_matrix(y_testkc, kN.predict(X_testkc))"
   ]
  },
  {
   "cell_type": "code",
   "execution_count": 161,
   "metadata": {},
   "outputs": [
    {
     "data": {
      "image/png": "[encoded data removed]",
      "text/plain": [
       "<Figure size 432x288 with 2 Axes>"
      ]
     },
     "metadata": {
      "needs_background": "light"
     },
     "output_type": "display_data"
    },
    {
     "data": {
      "text/plain": [
       "<Figure size 432x288 with 0 Axes>"
      ]
     },
     "metadata": {},
     "output_type": "display_data"
    }
   ],
   "source": [
    "\n",
    "labels = ['Apical', 'Basal']\n",
    "plot_confusion_matrix(kN, X_testkc, y_testkc)\n",
    "\n",
    "plt.xticks(np.arange(2), labels) \n",
    "plt.yticks(np.arange(2), labels) \n",
    "plt.xlabel('Predicted')\n",
    "plt.ylabel('True')\n",
    "plt.show()\n",
    "plt.savefig('../img/confusion_kN.png')"
   ]
  },
  {
   "cell_type": "code",
   "execution_count": 162,
   "metadata": {},
   "outputs": [
    {
     "name": "stdout",
     "output_type": "stream",
     "text": [
      "              precision    recall  f1-score   support\n",
      "\n",
      "           0       1.00      1.00      1.00      1131\n",
      "           1       1.00      1.00      1.00       786\n",
      "\n",
      "    accuracy                           1.00      1917\n",
      "   macro avg       1.00      1.00      1.00      1917\n",
      "weighted avg       1.00      1.00      1.00      1917\n",
      "\n"
     ]
    }
   ],
   "source": [
    "print(classification_report(y_testkc, kN.predict(X_testkc)))"
   ]
  },
  {
   "cell_type": "markdown",
   "metadata": {},
   "source": [
    "# Using Random Forest Regression to find length given the type"
   ]
  },
  {
   "cell_type": "code",
   "execution_count": 163,
   "metadata": {},
   "outputs": [
    {
     "data": {
      "text/html": [
       "<div>\n",
       "<style scoped>\n",
       "    .dataframe tbody tr th:only-of-type {\n",
       "        vertical-align: middle;\n",
       "    }\n",
       "\n",
       "    .dataframe tbody tr th {\n",
       "        vertical-align: top;\n",
       "    }\n",
       "\n",
       "    .dataframe thead th {\n",
       "        text-align: right;\n",
       "    }\n",
       "</style>\n",
       "<table border=\"1\" class=\"dataframe\">\n",
       "  <thead>\n",
       "    <tr style=\"text-align: right;\">\n",
       "      <th></th>\n",
       "      <th>allSegmentsType</th>\n",
       "      <th>allSegmentsLength</th>\n",
       "      <th>allSegments_DistFromSoma</th>\n",
       "      <th>allSectionsLength</th>\n",
       "      <th>allSections_DistFromSoma</th>\n",
       "    </tr>\n",
       "  </thead>\n",
       "  <tbody>\n",
       "    <tr>\n",
       "      <th>0</th>\n",
       "      <td>1</td>\n",
       "      <td>24.2009</td>\n",
       "      <td>23.6851</td>\n",
       "      <td>24.2009</td>\n",
       "      <td>11.5847</td>\n",
       "    </tr>\n",
       "    <tr>\n",
       "      <th>1</th>\n",
       "      <td>1</td>\n",
       "      <td>24.2009</td>\n",
       "      <td>23.6851</td>\n",
       "      <td>24.2009</td>\n",
       "      <td>11.5847</td>\n",
       "    </tr>\n",
       "    <tr>\n",
       "      <th>2</th>\n",
       "      <td>1</td>\n",
       "      <td>24.2009</td>\n",
       "      <td>23.6851</td>\n",
       "      <td>24.2009</td>\n",
       "      <td>11.5847</td>\n",
       "    </tr>\n",
       "    <tr>\n",
       "      <th>3</th>\n",
       "      <td>1</td>\n",
       "      <td>24.2009</td>\n",
       "      <td>23.6851</td>\n",
       "      <td>24.2009</td>\n",
       "      <td>11.5847</td>\n",
       "    </tr>\n",
       "    <tr>\n",
       "      <th>4</th>\n",
       "      <td>1</td>\n",
       "      <td>24.2009</td>\n",
       "      <td>23.6851</td>\n",
       "      <td>24.2009</td>\n",
       "      <td>11.5847</td>\n",
       "    </tr>\n",
       "    <tr>\n",
       "      <th>...</th>\n",
       "      <td>...</td>\n",
       "      <td>...</td>\n",
       "      <td>...</td>\n",
       "      <td>...</td>\n",
       "      <td>...</td>\n",
       "    </tr>\n",
       "    <tr>\n",
       "      <th>7663</th>\n",
       "      <td>0</td>\n",
       "      <td>30.0747</td>\n",
       "      <td>118.187</td>\n",
       "      <td>30.0747</td>\n",
       "      <td>103.15</td>\n",
       "    </tr>\n",
       "    <tr>\n",
       "      <th>7664</th>\n",
       "      <td>0</td>\n",
       "      <td>30.0747</td>\n",
       "      <td>118.187</td>\n",
       "      <td>30.0747</td>\n",
       "      <td>103.15</td>\n",
       "    </tr>\n",
       "    <tr>\n",
       "      <th>7665</th>\n",
       "      <td>0</td>\n",
       "      <td>30.0747</td>\n",
       "      <td>118.187</td>\n",
       "      <td>30.0747</td>\n",
       "      <td>103.15</td>\n",
       "    </tr>\n",
       "    <tr>\n",
       "      <th>7666</th>\n",
       "      <td>0</td>\n",
       "      <td>30.0747</td>\n",
       "      <td>118.187</td>\n",
       "      <td>30.0747</td>\n",
       "      <td>103.15</td>\n",
       "    </tr>\n",
       "    <tr>\n",
       "      <th>7667</th>\n",
       "      <td>0</td>\n",
       "      <td>30.0747</td>\n",
       "      <td>118.187</td>\n",
       "      <td>30.0747</td>\n",
       "      <td>103.15</td>\n",
       "    </tr>\n",
       "  </tbody>\n",
       "</table>\n",
       "<p>7668 rows × 5 columns</p>\n",
       "</div>"
      ],
      "text/plain": [
       "      allSegmentsType allSegmentsLength allSegments_DistFromSoma  \\\n",
       "0                   1           24.2009                  23.6851   \n",
       "1                   1           24.2009                  23.6851   \n",
       "2                   1           24.2009                  23.6851   \n",
       "3                   1           24.2009                  23.6851   \n",
       "4                   1           24.2009                  23.6851   \n",
       "...               ...               ...                      ...   \n",
       "7663                0           30.0747                  118.187   \n",
       "7664                0           30.0747                  118.187   \n",
       "7665                0           30.0747                  118.187   \n",
       "7666                0           30.0747                  118.187   \n",
       "7667                0           30.0747                  118.187   \n",
       "\n",
       "     allSectionsLength allSections_DistFromSoma  \n",
       "0              24.2009                  11.5847  \n",
       "1              24.2009                  11.5847  \n",
       "2              24.2009                  11.5847  \n",
       "3              24.2009                  11.5847  \n",
       "4              24.2009                  11.5847  \n",
       "...                ...                      ...  \n",
       "7663           30.0747                   103.15  \n",
       "7664           30.0747                   103.15  \n",
       "7665           30.0747                   103.15  \n",
       "7666           30.0747                   103.15  \n",
       "7667           30.0747                   103.15  \n",
       "\n",
       "[7668 rows x 5 columns]"
      ]
     },
     "execution_count": 163,
     "metadata": {},
     "output_type": "execute_result"
    }
   ],
   "source": [
    "df_m"
   ]
  },
  {
   "cell_type": "code",
   "execution_count": 66,
   "metadata": {},
   "outputs": [],
   "source": [
    "y_r = df_m[['allSegments_DistFromSoma', 'allSections_DistFromSoma']]"
   ]
  },
  {
   "cell_type": "code",
   "execution_count": 67,
   "metadata": {},
   "outputs": [],
   "source": [
    "df_r = df_m.copy(deep=True)"
   ]
  },
  {
   "cell_type": "code",
   "execution_count": 72,
   "metadata": {},
   "outputs": [],
   "source": [
    "# df_r.drop(['allSegments_DistFromSoma', 'allSections_DistFromSoma'], inplace=True, axis=1)"
   ]
  },
  {
   "cell_type": "code",
   "execution_count": 89,
   "metadata": {},
   "outputs": [],
   "source": [
    "X_r = df_r\n"
   ]
  },
  {
   "cell_type": "code",
   "execution_count": 79,
   "metadata": {},
   "outputs": [],
   "source": [
    "X_train_r, X_test_r, y_train_r, y_test_r = train_test_split(X_r, y_r, stratify=y_r, test_size=0.33)"
   ]
  },
  {
   "cell_type": "code",
   "execution_count": 81,
   "metadata": {},
   "outputs": [],
   "source": [
    "LR = LogisticRegressionCV()"
   ]
  },
  {
   "cell_type": "code",
   "execution_count": null,
   "metadata": {},
   "outputs": [],
   "source": []
  },
  {
   "cell_type": "markdown",
   "metadata": {},
   "source": [
    "# to be continued"
   ]
  }
 ],
 "metadata": {
  "kernelspec": {
   "display_name": "Python 3",
   "language": "python",
   "name": "python3"
  },
  "language_info": {
   "codemirror_mode": {
    "name": "ipython",
    "version": 3
   },
   "file_extension": ".py",
   "mimetype": "text/x-python",
   "name": "python",
   "nbconvert_exporter": "python",
   "pygments_lexer": "ipython3",
   "version": "3.8.5"
  }
 },
 "nbformat": 4,
 "nbformat_minor": 4
}
