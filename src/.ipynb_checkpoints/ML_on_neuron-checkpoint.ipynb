{
 "cells": [
  {
   "cell_type": "code",
   "execution_count": 1,
   "metadata": {},
   "outputs": [],
   "source": [
    "import numpy as np\n",
    "import pandas as pd\n",
    "\n",
    "import os\n",
    "import pickle\n",
    "import glob\n",
    "import matplotlib.pyplot as plt\n",
    "import time\n",
    "import keras\n",
    "import tensorflow as tf\n",
    "from sklearn.metrics import plot_confusion_matrix\n",
    "import imageio\n",
    "from scipy import signal\n",
    "from keras.models import load_model\n",
    "from sklearn.linear_model import LogisticRegression\n",
    "from sklearn.metrics import mean_squared_error as MSE\n",
    "from sklearn.metrics import mean_absolute_error as MAE\n",
    "from sklearn.model_selection import train_test_split\n",
    "from sklearn.preprocessing import LabelEncoder\n",
    "from sklearn.metrics import explained_variance_score\n",
    "from sklearn.metrics import roc_curve, auc\n",
    "from skimage.transform import resize\n",
    "from matplotlib.lines import Line2D\n",
    "import matplotlib.patches as mpatches\n",
    "import matplotlib.gridspec as gridspec\n",
    "from mpl_toolkits.axes_grid1.inset_locator import inset_axes\n",
    "from sklearn.metrics import classification_report, confusion_matrix\n"
   ]
  },
  {
   "cell_type": "code",
   "execution_count": 2,
   "metadata": {},
   "outputs": [
    {
     "data": {
      "text/plain": [
       "'import tensorflow as tf\\nprint(\"You are using TensorFlow version\", tf.__version__)\\nif len(tf.config.list_physical_devices(\\'GPU\\')) > 0:    \\n    print(\"You have a GPU enabled.\")\\nelse:    \\n    print(\"Enable a GPU before running this notebook.\")'"
      ]
     },
     "execution_count": 2,
     "metadata": {},
     "output_type": "execute_result"
    }
   ],
   "source": [
    "'''import tensorflow as tf\n",
    "print(\"You are using TensorFlow version\", tf.__version__)\n",
    "if len(tf.config.list_physical_devices('GPU')) > 0:    \n",
    "    print(\"You have a GPU enabled.\")\n",
    "else:    \n",
    "    print(\"Enable a GPU before running this notebook.\")'''"
   ]
  },
  {
   "cell_type": "code",
   "execution_count": 3,
   "metadata": {},
   "outputs": [
    {
     "name": "stdout",
     "output_type": "stream",
     "text": [
      "-----------------------------------------------\n",
      "finding files: morphology and test data\n",
      "-----------------------------------------------\n",
      "model metadata found : \"NMDA_TCN__DWT_7_128_153__training.pickle\"\n",
      "morphology found     : \"morphology_dict.pickle\"\n",
      "number of test files is 12\n",
      "-----------------------------------------------\n"
     ]
    }
   ],
   "source": [
    "save_figures = False\n",
    "file_ending = '.png'\n",
    "model_string = 'NMDA'\n",
    "\n",
    "dataset_folder = '../data'\n",
    "\n",
    "models_folder     = os.path.join(dataset_folder, 'Models')\n",
    "morphology_folder = os.path.join(dataset_folder, 'Morphology')\n",
    "test_data_folder  = os.path.join(dataset_folder, 'Data_test')\n",
    "#auxiliary_folder  = os.path.join(dataset_folder, 'Auxiliary')\n",
    "\n",
    "model_filename           = os.path.join(models_folder, 'NMDA_TCN__DWT_7_128_153__model.h5')\n",
    "model_metadata_filename  = os.path.join(models_folder, 'NMDA_TCN__DWT_7_128_153__training.pickle')\n",
    "morphology_filename      = os.path.join(morphology_folder, 'morphology_dict.pickle')\n",
    "#NN_illustration_filename = os.path.join(auxiliary_folder, 'TCN_7_layers.png')\n",
    "test_files               = sorted(glob.glob(os.path.join(test_data_folder, '*_128_simulationRuns*_6_secDuration_*')))\n",
    "\n",
    "print('-----------------------------------------------')\n",
    "print('finding files: morphology and test data')\n",
    "print('-----------------------------------------------')\n",
    "#print('model found          : \"%s\"' %(model_filename.split('/')[-1]))\n",
    "print('model metadata found : \"%s\"' %(model_metadata_filename.split('/')[-1]))\n",
    "print('morphology found     : \"%s\"' %(morphology_filename.split('/')[-1]))\n",
    "print('number of test files is %d' %(len(test_files)))\n",
    "print('-----------------------------------------------')"
   ]
  },
  {
   "cell_type": "code",
   "execution_count": 4,
   "metadata": {},
   "outputs": [],
   "source": [
    "testing_3 = test_files[1]\n",
    "experiment_dict = pickle.load(open(testing_3, \"rb\" ), encoding='latin1')\n"
   ]
  },
  {
   "cell_type": "code",
   "execution_count": 5,
   "metadata": {},
   "outputs": [
    {
     "data": {
      "text/html": [
       "<div>\n",
       "<style scoped>\n",
       "    .dataframe tbody tr th:only-of-type {\n",
       "        vertical-align: middle;\n",
       "    }\n",
       "\n",
       "    .dataframe tbody tr th {\n",
       "        vertical-align: top;\n",
       "    }\n",
       "\n",
       "    .dataframe thead th {\n",
       "        text-align: right;\n",
       "    }\n",
       "</style>\n",
       "<table border=\"1\" class=\"dataframe\">\n",
       "  <thead>\n",
       "    <tr style=\"text-align: right;\">\n",
       "      <th></th>\n",
       "      <th>Params</th>\n",
       "      <th>Results</th>\n",
       "    </tr>\n",
       "  </thead>\n",
       "  <tbody>\n",
       "    <tr>\n",
       "      <th>useActiveDendrites</th>\n",
       "      <td>True</td>\n",
       "      <td>NaN</td>\n",
       "    </tr>\n",
       "    <tr>\n",
       "      <th>randomSeed</th>\n",
       "      <td>100511</td>\n",
       "      <td>NaN</td>\n",
       "    </tr>\n",
       "    <tr>\n",
       "      <th>collectAndSaveDVTs</th>\n",
       "      <td>True</td>\n",
       "      <td>NaN</td>\n",
       "    </tr>\n",
       "    <tr>\n",
       "      <th>numOutputSpikesPerSim</th>\n",
       "      <td>[5, 7, 0, 0, 0, 12, 0, 0, 0, 2, 31, 8, 6, 19, ...</td>\n",
       "      <td>NaN</td>\n",
       "    </tr>\n",
       "    <tr>\n",
       "      <th>averageOutputFrequency</th>\n",
       "      <td>0.776042</td>\n",
       "      <td>NaN</td>\n",
       "    </tr>\n",
       "    <tr>\n",
       "      <th>numSimulations</th>\n",
       "      <td>128</td>\n",
       "      <td>NaN</td>\n",
       "    </tr>\n",
       "    <tr>\n",
       "      <th>totalSimDurationInSec</th>\n",
       "      <td>6</td>\n",
       "      <td>NaN</td>\n",
       "    </tr>\n",
       "    <tr>\n",
       "      <th>num_bas_ex_spikes_per_100ms_range</th>\n",
       "      <td>[0, 750]</td>\n",
       "      <td>NaN</td>\n",
       "    </tr>\n",
       "    <tr>\n",
       "      <th>totalNumSimulationSeconds</th>\n",
       "      <td>768</td>\n",
       "      <td>NaN</td>\n",
       "    </tr>\n",
       "    <tr>\n",
       "      <th>allSegmentsLength</th>\n",
       "      <td>[24.200878230108255, 15.18219623504249, 21.664...</td>\n",
       "      <td>NaN</td>\n",
       "    </tr>\n",
       "    <tr>\n",
       "      <th>allSegments_SectionInd</th>\n",
       "      <td>[0, 1, 2, 2, 2, 2, 2, 2, 2, 3, 4, 4, 4, 4, 4, ...</td>\n",
       "      <td>NaN</td>\n",
       "    </tr>\n",
       "    <tr>\n",
       "      <th>ISICV</th>\n",
       "      <td>1.86243</td>\n",
       "      <td>NaN</td>\n",
       "    </tr>\n",
       "    <tr>\n",
       "      <th>allSegments_SectionDistFromSoma</th>\n",
       "      <td>[11.584681059280044, 35.7855592893883, 50.9677...</td>\n",
       "      <td>NaN</td>\n",
       "    </tr>\n",
       "    <tr>\n",
       "      <th>inhibitorySynapseType</th>\n",
       "      <td>GABA_A</td>\n",
       "      <td>NaN</td>\n",
       "    </tr>\n",
       "    <tr>\n",
       "      <th>excitatorySynapseType</th>\n",
       "      <td>NMDA</td>\n",
       "      <td>NaN</td>\n",
       "    </tr>\n",
       "    <tr>\n",
       "      <th>num_apic_ex_inh_spike_diff_per_100ms_range</th>\n",
       "      <td>[-550, 200]</td>\n",
       "      <td>NaN</td>\n",
       "    </tr>\n",
       "    <tr>\n",
       "      <th>allSectionsType</th>\n",
       "      <td>[basal, basal, basal, basal, basal, basal, bas...</td>\n",
       "      <td>NaN</td>\n",
       "    </tr>\n",
       "    <tr>\n",
       "      <th>allSectionsLength</th>\n",
       "      <td>[24.200878230108255, 15.18219623504249, 151.65...</td>\n",
       "      <td>NaN</td>\n",
       "    </tr>\n",
       "    <tr>\n",
       "      <th>allSections_DistFromSoma</th>\n",
       "      <td>[11.584681059280044, 35.7855592893883, 50.9677...</td>\n",
       "      <td>NaN</td>\n",
       "    </tr>\n",
       "    <tr>\n",
       "      <th>numSamplesPerMS_HighRes</th>\n",
       "      <td>8</td>\n",
       "      <td>NaN</td>\n",
       "    </tr>\n",
       "    <tr>\n",
       "      <th>allSegments_DistFromSoma</th>\n",
       "      <td>[23.685120174334173, 43.376657406909544, 61.79...</td>\n",
       "      <td>NaN</td>\n",
       "    </tr>\n",
       "    <tr>\n",
       "      <th>allSegmentsType</th>\n",
       "      <td>[basal, basal, basal, basal, basal, basal, bas...</td>\n",
       "      <td>NaN</td>\n",
       "    </tr>\n",
       "    <tr>\n",
       "      <th>listOfISIs</th>\n",
       "      <td>[329.125, 12.125, 3480.125, 696.125, 9.875, 8....</td>\n",
       "      <td>NaN</td>\n",
       "    </tr>\n",
       "    <tr>\n",
       "      <th>inst_rate_sampling_time_interval_options_ms</th>\n",
       "      <td>[25, 30, 35, 40, 45, 55, 60, 65, 70, 75, 80, 8...</td>\n",
       "      <td>NaN</td>\n",
       "    </tr>\n",
       "    <tr>\n",
       "      <th>entireExperimentDurationInMinutes</th>\n",
       "      <td>487.956</td>\n",
       "      <td>NaN</td>\n",
       "    </tr>\n",
       "    <tr>\n",
       "      <th>Ih_vshift</th>\n",
       "      <td>0</td>\n",
       "      <td>NaN</td>\n",
       "    </tr>\n",
       "    <tr>\n",
       "      <th>num_bas_ex_inh_spike_diff_per_100ms_range</th>\n",
       "      <td>[-550, 200]</td>\n",
       "      <td>NaN</td>\n",
       "    </tr>\n",
       "    <tr>\n",
       "      <th>totalNumOutputSpikes</th>\n",
       "      <td>596</td>\n",
       "      <td>NaN</td>\n",
       "    </tr>\n",
       "    <tr>\n",
       "      <th>num_apic_ex_spikes_per_100ms_range</th>\n",
       "      <td>[0, 800]</td>\n",
       "      <td>NaN</td>\n",
       "    </tr>\n",
       "    <tr>\n",
       "      <th>listOfSingleSimulationDicts</th>\n",
       "      <td>NaN</td>\n",
       "      <td>[{'recordingTimeHighRes': [0.0, 0.125, 0.25, 0...</td>\n",
       "    </tr>\n",
       "  </tbody>\n",
       "</table>\n",
       "</div>"
      ],
      "text/plain": [
       "                                                                                        Params  \\\n",
       "useActiveDendrites                                                                        True   \n",
       "randomSeed                                                                              100511   \n",
       "collectAndSaveDVTs                                                                        True   \n",
       "numOutputSpikesPerSim                        [5, 7, 0, 0, 0, 12, 0, 0, 0, 2, 31, 8, 6, 19, ...   \n",
       "averageOutputFrequency                                                                0.776042   \n",
       "numSimulations                                                                             128   \n",
       "totalSimDurationInSec                                                                        6   \n",
       "num_bas_ex_spikes_per_100ms_range                                                     [0, 750]   \n",
       "totalNumSimulationSeconds                                                                  768   \n",
       "allSegmentsLength                            [24.200878230108255, 15.18219623504249, 21.664...   \n",
       "allSegments_SectionInd                       [0, 1, 2, 2, 2, 2, 2, 2, 2, 3, 4, 4, 4, 4, 4, ...   \n",
       "ISICV                                                                                  1.86243   \n",
       "allSegments_SectionDistFromSoma              [11.584681059280044, 35.7855592893883, 50.9677...   \n",
       "inhibitorySynapseType                                                                   GABA_A   \n",
       "excitatorySynapseType                                                                     NMDA   \n",
       "num_apic_ex_inh_spike_diff_per_100ms_range                                         [-550, 200]   \n",
       "allSectionsType                              [basal, basal, basal, basal, basal, basal, bas...   \n",
       "allSectionsLength                            [24.200878230108255, 15.18219623504249, 151.65...   \n",
       "allSections_DistFromSoma                     [11.584681059280044, 35.7855592893883, 50.9677...   \n",
       "numSamplesPerMS_HighRes                                                                      8   \n",
       "allSegments_DistFromSoma                     [23.685120174334173, 43.376657406909544, 61.79...   \n",
       "allSegmentsType                              [basal, basal, basal, basal, basal, basal, bas...   \n",
       "listOfISIs                                   [329.125, 12.125, 3480.125, 696.125, 9.875, 8....   \n",
       "inst_rate_sampling_time_interval_options_ms  [25, 30, 35, 40, 45, 55, 60, 65, 70, 75, 80, 8...   \n",
       "entireExperimentDurationInMinutes                                                      487.956   \n",
       "Ih_vshift                                                                                    0   \n",
       "num_bas_ex_inh_spike_diff_per_100ms_range                                          [-550, 200]   \n",
       "totalNumOutputSpikes                                                                       596   \n",
       "num_apic_ex_spikes_per_100ms_range                                                    [0, 800]   \n",
       "listOfSingleSimulationDicts                                                                NaN   \n",
       "\n",
       "                                                                                       Results  \n",
       "useActiveDendrites                                                                         NaN  \n",
       "randomSeed                                                                                 NaN  \n",
       "collectAndSaveDVTs                                                                         NaN  \n",
       "numOutputSpikesPerSim                                                                      NaN  \n",
       "averageOutputFrequency                                                                     NaN  \n",
       "numSimulations                                                                             NaN  \n",
       "totalSimDurationInSec                                                                      NaN  \n",
       "num_bas_ex_spikes_per_100ms_range                                                          NaN  \n",
       "totalNumSimulationSeconds                                                                  NaN  \n",
       "allSegmentsLength                                                                          NaN  \n",
       "allSegments_SectionInd                                                                     NaN  \n",
       "ISICV                                                                                      NaN  \n",
       "allSegments_SectionDistFromSoma                                                            NaN  \n",
       "inhibitorySynapseType                                                                      NaN  \n",
       "excitatorySynapseType                                                                      NaN  \n",
       "num_apic_ex_inh_spike_diff_per_100ms_range                                                 NaN  \n",
       "allSectionsType                                                                            NaN  \n",
       "allSectionsLength                                                                          NaN  \n",
       "allSections_DistFromSoma                                                                   NaN  \n",
       "numSamplesPerMS_HighRes                                                                    NaN  \n",
       "allSegments_DistFromSoma                                                                   NaN  \n",
       "allSegmentsType                                                                            NaN  \n",
       "listOfISIs                                                                                 NaN  \n",
       "inst_rate_sampling_time_interval_options_ms                                                NaN  \n",
       "entireExperimentDurationInMinutes                                                          NaN  \n",
       "Ih_vshift                                                                                  NaN  \n",
       "num_bas_ex_inh_spike_diff_per_100ms_range                                                  NaN  \n",
       "totalNumOutputSpikes                                                                       NaN  \n",
       "num_apic_ex_spikes_per_100ms_range                                                         NaN  \n",
       "listOfSingleSimulationDicts                  [{'recordingTimeHighRes': [0.0, 0.125, 0.25, 0...  "
      ]
     },
     "execution_count": 5,
     "metadata": {},
     "output_type": "execute_result"
    }
   ],
   "source": [
    "experiment_dict.keys()\n",
    "df = pd.DataFrame(experiment_dict)\n",
    "df"
   ]
  },
  {
   "cell_type": "code",
   "execution_count": 6,
   "metadata": {},
   "outputs": [],
   "source": [
    "opening_files = test_files[0]"
   ]
  },
  {
   "cell_type": "markdown",
   "metadata": {},
   "source": [
    "# Definitions for opening files"
   ]
  },
  {
   "cell_type": "code",
   "execution_count": 12,
   "metadata": {},
   "outputs": [],
   "source": [
    "def large_dataframe(file):\n",
    "    experiment_dict = pickle.load(open(file, \"rb\"), encoding='latin1')\n",
    "    df = pd.DataFrame(experiment_dict)\n",
    "    df.drop('Results', inplace=True, axis=1)\n",
    "    df = df.loc[['allSegmentsType', 'allSegmentsLength', 'allSegments_SectionInd', 'allSegments_DistFromSoma', 'allSegments_SectionDistFromSoma']]\n",
    "    df = df.T.apply(pd.Series.explode).reset_index()\n",
    "    df.drop('index', inplace=True, axis=1)\n",
    "    return df\n",
    "\n",
    "def small_dataframe(file):\n",
    "    experiment_dict = pickle.load(open(file, \"rb\"), encoding='latin1')\n",
    "    df = pd.DataFrame(experiment_dict)\n",
    "    df.drop('Results', inplace=True, axis=1)\n",
    "    df = df.loc[['allSectionsType', 'allSectionsLength', 'allSections_DistFromSoma']]\n",
    "    df = df.T.apply(pd.Series.explode).reset_index()\n",
    "    df.drop('index', inplace=True, axis=1)\n",
    "    return df\n",
    "\n",
    "def whole_dataframe(file):\n",
    "    experiment_dict = pickle.load(open(file, \"rb\"), encoding='latin1')\n",
    "    df = pd.DataFrame(experiment_dict)\n",
    "    df.drop('Results', inplace=True, axis=1)\n",
    "    df = df.loc[['allSectionsType', 'allSectionsLength', 'allSections_DistFromSoma', 'allSegmentsType', 'allSegmentsLength', 'allSegments_SectionInd', 'allSegments_DistFromSoma', 'allSegments_SectionDistFromSoma']]\n",
    "    df = df.T.apply(pd.Series.explode)\n",
    "\n",
    "    return df\n",
    "#df_sub = df.loc[['allSectionsType', 'allSectionsLength', 'allSections_DistFromSoma']]\n",
    "\n",
    "#df_sub.T.apply(pd.Series.explode).reset_index()\n",
    "# stratify on column for basal/apical - use labelencoder"
   ]
  },
  {
   "cell_type": "code",
   "execution_count": 13,
   "metadata": {},
   "outputs": [],
   "source": [
    "def multi_df(files, opener):\n",
    "    lst_df = []\n",
    "    for file in files:\n",
    "        lst_df.append(opener(file))\n",
    "        \n",
    "    return pd.concat(lst_df)\n",
    "\n"
   ]
  },
  {
   "cell_type": "code",
   "execution_count": 14,
   "metadata": {},
   "outputs": [
    {
     "data": {
      "text/plain": [
       "'testing = test_files[:3]\\ndfs = multi_df(testing)'"
      ]
     },
     "execution_count": 14,
     "metadata": {},
     "output_type": "execute_result"
    }
   ],
   "source": [
    "'''testing = test_files[:3]\n",
    "dfs = multi_df(testing)''' #testing the definitions"
   ]
  },
  {
   "cell_type": "code",
   "execution_count": 15,
   "metadata": {},
   "outputs": [],
   "source": [
    "#whole_df = multi_df(test_files, whole_dataframe)"
   ]
  },
  {
   "cell_type": "markdown",
   "metadata": {},
   "source": [
    "# Creating the Dataframes"
   ]
  },
  {
   "cell_type": "code",
   "execution_count": null,
   "metadata": {},
   "outputs": [],
   "source": [
    "dfs = multi_df(test_files, large_dataframe)"
   ]
  },
  {
   "cell_type": "code",
   "execution_count": null,
   "metadata": {},
   "outputs": [],
   "source": [
    "dfs"
   ]
  },
  {
   "cell_type": "code",
   "execution_count": 12,
   "metadata": {},
   "outputs": [],
   "source": [
    "df_193 = multi_df(test_files, small_dataframe)"
   ]
  },
  {
   "cell_type": "code",
   "execution_count": 32,
   "metadata": {},
   "outputs": [],
   "source": [
    "#dfs['idx'] = dfs['allSegments_SectionInd']\n",
    "#dfs.drop('allSegments_SectionDistFromSoma', inplace = True, axis=1)\n",
    "#dfs.drop('allSegments_SectionInd', inplace = True, axis=1)\n",
    "#dfs.rename(columns={'index':'idx'}, inplace=True)\n",
    "#df_193.rename(columns={'index':'idx'}, inplace=True)\n",
    "\n",
    "#df_193['idx'] = df_193.index\n",
    "#dfs = iterates through 639 items - Segments - I have a column that shows the idx of df_193\n",
    "#df_193 = iterates through 193 items - Sections\n",
    "df_193.drop('allSectionsLength', inplace = True, axis=1)"
   ]
  },
  {
   "cell_type": "code",
   "execution_count": 71,
   "metadata": {},
   "outputs": [],
   "source": [
    "\n",
    "dfs['idx']=dfs['idx'].astype(float).astype(int)\n",
    "\n",
    "df_m = dfs.merge(df_193.drop_duplicates(), how= 'inner', left_on=['idx'],right_on =['idx'])\n",
    "#test10 = dfs.join(df_193.set_index('idx'), on='idx')\n",
    "#test10 = pd.merge_ordered(dfs, df_193, fill_method=\"ffill\", left_by=\"idx\")\n"
   ]
  },
  {
   "cell_type": "code",
   "execution_count": 73,
   "metadata": {},
   "outputs": [],
   "source": [
    "df_m.drop('idx', inplace = True, axis=1)"
   ]
  },
  {
   "cell_type": "code",
   "execution_count": 85,
   "metadata": {},
   "outputs": [],
   "source": [
    "df_m.drop('allSectionsType', inplace = True, axis=1)"
   ]
  },
  {
   "cell_type": "code",
   "execution_count": 86,
   "metadata": {},
   "outputs": [],
   "source": [
    "le = LabelEncoder()\n",
    "df_m['allSegmentsType'] = le.fit_transform(df_m['allSegmentsType'])\n",
    "#1 = Basal\n",
    "#0 = apical\n",
    "df_x = df_m.copy(deep=True)"
   ]
  },
  {
   "cell_type": "code",
   "execution_count": 135,
   "metadata": {},
   "outputs": [],
   "source": [
    "val0 = df_m[df_m['allSegmentsType'] == 0] #4524"
   ]
  },
  {
   "cell_type": "code",
   "execution_count": 141,
   "metadata": {},
   "outputs": [],
   "source": [
    "y = dfs['allSegmentsType']"
   ]
  },
  {
   "cell_type": "code",
   "execution_count": 142,
   "metadata": {},
   "outputs": [],
   "source": [
    "#df_x.drop('allSegmentsType', inplace = True, axis=1)"
   ]
  },
  {
   "cell_type": "code",
   "execution_count": null,
   "metadata": {},
   "outputs": [],
   "source": [
    "X = df_x\n"
   ]
  },
  {
   "cell_type": "markdown",
   "metadata": {},
   "source": [
    "# Logistic Regression - Baseline"
   ]
  },
  {
   "cell_type": "code",
   "execution_count": null,
   "metadata": {},
   "outputs": [],
   "source": [
    "X"
   ]
  },
  {
   "cell_type": "code",
   "execution_count": 222,
   "metadata": {},
   "outputs": [],
   "source": [
    "X_train, X_test, y_train, y_test = train_test_split(X, y,test_size=0.33)"
   ]
  },
  {
   "cell_type": "code",
   "execution_count": 223,
   "metadata": {},
   "outputs": [],
   "source": [
    "lr = LogisticRegression()\n",
    "model = lr.fit(X_train, y_train)"
   ]
  },
  {
   "cell_type": "code",
   "execution_count": 224,
   "metadata": {},
   "outputs": [
    {
     "data": {
      "text/plain": [
       "0.5871197155274595"
      ]
     },
     "execution_count": 224,
     "metadata": {},
     "output_type": "execute_result"
    }
   ],
   "source": [
    "(model.predict(X_test) == y_test).mean()"
   ]
  },
  {
   "cell_type": "code",
   "execution_count": 225,
   "metadata": {},
   "outputs": [
    {
     "data": {
      "text/plain": [
       "array([0, 1])"
      ]
     },
     "execution_count": 225,
     "metadata": {},
     "output_type": "execute_result"
    }
   ],
   "source": [
    "model.classes_"
   ]
  },
  {
   "cell_type": "code",
   "execution_count": 226,
   "metadata": {},
   "outputs": [
    {
     "data": {
      "text/plain": [
       "array([-0.6198952])"
      ]
     },
     "execution_count": 226,
     "metadata": {},
     "output_type": "execute_result"
    }
   ],
   "source": [
    "model.intercept_"
   ]
  },
  {
   "cell_type": "code",
   "execution_count": 227,
   "metadata": {},
   "outputs": [
    {
     "data": {
      "text/plain": [
       "array([[ 0.00540126,  0.00190311, -0.00183224]])"
      ]
     },
     "execution_count": 227,
     "metadata": {},
     "output_type": "execute_result"
    }
   ],
   "source": [
    "model.coef_"
   ]
  },
  {
   "cell_type": "code",
   "execution_count": 228,
   "metadata": {},
   "outputs": [
    {
     "data": {
      "text/plain": [
       "array([[0.58475201, 0.41524799],\n",
       "       [0.60609579, 0.39390421],\n",
       "       [0.58269007, 0.41730993],\n",
       "       ...,\n",
       "       [0.5999787 , 0.4000213 ],\n",
       "       [0.60052538, 0.39947462],\n",
       "       [0.61379421, 0.38620579]])"
      ]
     },
     "execution_count": 228,
     "metadata": {},
     "output_type": "execute_result"
    }
   ],
   "source": [
    "model.predict_proba(X_train)"
   ]
  },
  {
   "cell_type": "code",
   "execution_count": 229,
   "metadata": {},
   "outputs": [
    {
     "data": {
      "text/plain": [
       "array([0, 0, 0, ..., 0, 0, 0])"
      ]
     },
     "execution_count": 229,
     "metadata": {},
     "output_type": "execute_result"
    }
   ],
   "source": [
    "model.predict(X_test)"
   ]
  },
  {
   "cell_type": "code",
   "execution_count": 230,
   "metadata": {},
   "outputs": [
    {
     "data": {
      "text/plain": [
       "0.5871197155274595"
      ]
     },
     "execution_count": 230,
     "metadata": {},
     "output_type": "execute_result"
    }
   ],
   "source": [
    "model.score(X_test, y_test)"
   ]
  },
  {
   "cell_type": "code",
   "execution_count": 231,
   "metadata": {},
   "outputs": [
    {
     "data": {
      "text/plain": [
       "0.5871197155274595"
      ]
     },
     "execution_count": 231,
     "metadata": {},
     "output_type": "execute_result"
    }
   ],
   "source": [
    "model.score(X_test, y_test)"
   ]
  },
  {
   "cell_type": "code",
   "execution_count": 232,
   "metadata": {},
   "outputs": [
    {
     "data": {
      "text/plain": [
       "array([[1478,    0],\n",
       "       [1045,    8]])"
      ]
     },
     "execution_count": 232,
     "metadata": {},
     "output_type": "execute_result"
    }
   ],
   "source": [
    "confusion_matrix(y_test, model.predict(X_test))"
   ]
  },
  {
   "cell_type": "code",
   "execution_count": 233,
   "metadata": {},
   "outputs": [
    {
     "data": {
      "text/plain": [
       "array([[3046,    0],\n",
       "       [2075,   16]])"
      ]
     },
     "execution_count": 233,
     "metadata": {},
     "output_type": "execute_result"
    }
   ],
   "source": [
    "confusion_matrix(y_train, model.predict(X_train))"
   ]
  },
  {
   "cell_type": "markdown",
   "metadata": {},
   "source": [
    "-True negatives in the upper-left position\n",
    "\n",
    "-False negatives in the lower-left position\n",
    "\n",
    "-False positives in the upper-right position\n",
    "\n",
    "-True positives in the lower-right position"
   ]
  },
  {
   "cell_type": "code",
   "execution_count": 234,
   "metadata": {},
   "outputs": [
    {
     "data": {
      "text/plain": [
       "<sklearn.metrics._plot.confusion_matrix.ConfusionMatrixDisplay at 0x7f41cf192eb0>"
      ]
     },
     "execution_count": 234,
     "metadata": {},
     "output_type": "execute_result"
    },
    {
     "name": "stderr",
     "output_type": "stream",
     "text": [
      "Exception in Tkinter callback\n",
      "Traceback (most recent call last):\n",
      "  File \"/home/pteradox/anaconda3/lib/python3.8/tkinter/__init__.py\", line 1883, in __call__\n",
      "    return self.func(*args)\n",
      "  File \"/home/pteradox/anaconda3/lib/python3.8/tkinter/__init__.py\", line 804, in callit\n",
      "    func(*args)\n",
      "  File \"/home/pteradox/anaconda3/lib/python3.8/site-packages/matplotlib/backends/_backend_tk.py\", line 253, in idle_draw\n",
      "    self.draw()\n",
      "  File \"/home/pteradox/anaconda3/lib/python3.8/site-packages/matplotlib/backends/backend_tkagg.py\", line 9, in draw\n",
      "    super(FigureCanvasTkAgg, self).draw()\n",
      "  File \"/home/pteradox/anaconda3/lib/python3.8/site-packages/matplotlib/backends/backend_agg.py\", line 407, in draw\n",
      "    self.figure.draw(self.renderer)\n",
      "  File \"/home/pteradox/anaconda3/lib/python3.8/site-packages/matplotlib/backend_bases.py\", line 1544, in _draw\n",
      "    def _draw(renderer): raise Done(renderer)\n",
      "matplotlib.backend_bases._get_renderer.<locals>.Done: <matplotlib.backends.backend_agg.RendererAgg object at 0x7f41cd34a9a0>\n",
      "Exception in Tkinter callback\n",
      "Traceback (most recent call last):\n",
      "  File \"/home/pteradox/anaconda3/lib/python3.8/tkinter/__init__.py\", line 1883, in __call__\n",
      "    return self.func(*args)\n",
      "  File \"/home/pteradox/anaconda3/lib/python3.8/site-packages/matplotlib/backends/_backend_tk.py\", line 242, in resize\n",
      "    self.draw()\n",
      "  File \"/home/pteradox/anaconda3/lib/python3.8/site-packages/matplotlib/backends/backend_tkagg.py\", line 9, in draw\n",
      "    super(FigureCanvasTkAgg, self).draw()\n",
      "  File \"/home/pteradox/anaconda3/lib/python3.8/site-packages/matplotlib/backends/backend_agg.py\", line 407, in draw\n",
      "    self.figure.draw(self.renderer)\n",
      "  File \"/home/pteradox/anaconda3/lib/python3.8/site-packages/matplotlib/backend_bases.py\", line 1544, in _draw\n",
      "    def _draw(renderer): raise Done(renderer)\n",
      "matplotlib.backend_bases._get_renderer.<locals>.Done: <matplotlib.backends.backend_agg.RendererAgg object at 0x7f41cd34a9a0>\n",
      "Exception in Tkinter callback\n",
      "Traceback (most recent call last):\n",
      "  File \"/home/pteradox/anaconda3/lib/python3.8/tkinter/__init__.py\", line 1883, in __call__\n",
      "    return self.func(*args)\n",
      "  File \"/home/pteradox/anaconda3/lib/python3.8/tkinter/__init__.py\", line 804, in callit\n",
      "    func(*args)\n",
      "  File \"/home/pteradox/anaconda3/lib/python3.8/site-packages/matplotlib/backends/_backend_tk.py\", line 253, in idle_draw\n",
      "    self.draw()\n",
      "  File \"/home/pteradox/anaconda3/lib/python3.8/site-packages/matplotlib/backends/backend_tkagg.py\", line 9, in draw\n",
      "    super(FigureCanvasTkAgg, self).draw()\n",
      "  File \"/home/pteradox/anaconda3/lib/python3.8/site-packages/matplotlib/backends/backend_agg.py\", line 407, in draw\n",
      "    self.figure.draw(self.renderer)\n",
      "  File \"/home/pteradox/anaconda3/lib/python3.8/site-packages/matplotlib/backend_bases.py\", line 1544, in _draw\n",
      "    def _draw(renderer): raise Done(renderer)\n",
      "matplotlib.backend_bases._get_renderer.<locals>.Done: <matplotlib.backends.backend_agg.RendererAgg object at 0x7f41cd34a9a0>\n"
     ]
    },
    {
     "data": {
      "image/png": "[encoded data removed]",
      "text/plain": [
       "<Figure size 432x288 with 2 Axes>"
      ]
     },
     "metadata": {
      "needs_background": "light"
     },
     "output_type": "display_data"
    }
   ],
   "source": [
    "plot_confusion_matrix(model, X_test, y_test) "
   ]
  },
  {
   "cell_type": "code",
   "execution_count": 235,
   "metadata": {},
   "outputs": [
    {
     "name": "stdout",
     "output_type": "stream",
     "text": [
      "              precision    recall  f1-score   support\n",
      "\n",
      "           0       0.59      1.00      0.75      3046\n",
      "           1       1.00      0.01      0.02      2091\n",
      "\n",
      "    accuracy                           0.60      5137\n",
      "   macro avg       0.80      0.50      0.38      5137\n",
      "weighted avg       0.76      0.60      0.45      5137\n",
      "\n"
     ]
    }
   ],
   "source": [
    "print(classification_report(y_train, model.predict(X_train)))"
   ]
  },
  {
   "cell_type": "code",
   "execution_count": 236,
   "metadata": {},
   "outputs": [
    {
     "name": "stdout",
     "output_type": "stream",
     "text": [
      "              precision    recall  f1-score   support\n",
      "\n",
      "           0       0.59      1.00      0.74      1478\n",
      "           1       1.00      0.01      0.02      1053\n",
      "\n",
      "    accuracy                           0.59      2531\n",
      "   macro avg       0.79      0.50      0.38      2531\n",
      "weighted avg       0.76      0.59      0.44      2531\n",
      "\n"
     ]
    }
   ],
   "source": [
    "print(classification_report(y_test, model.predict(X_test)))"
   ]
  },
  {
   "cell_type": "markdown",
   "metadata": {},
   "source": [
    "# Finding K-Means"
   ]
  },
  {
   "cell_type": "code",
   "execution_count": 237,
   "metadata": {},
   "outputs": [],
   "source": [
    "from sklearn.neighbors import KNeighborsClassifier\n",
    "from sklearn.cluster import KMeans\n",
    "from sklearn import metrics\n",
    "from scipy.spatial.distance import cdist\n",
    "import numpy as np\n",
    "import matplotlib.pyplot as plt"
   ]
  },
  {
   "cell_type": "code",
   "execution_count": 262,
   "metadata": {},
   "outputs": [],
   "source": [
    "X_train, X_test, y_train, y_test = train_test_split(X, y, stratify=y, test_size=0.28)"
   ]
  },
  {
   "cell_type": "code",
   "execution_count": 263,
   "metadata": {},
   "outputs": [],
   "source": [
    "distortions = []\n",
    "inertias = []\n",
    "mapping1 = {}\n",
    "mapping2 = {}\n",
    "K = range(1, 10)\n",
    " \n",
    "for k in K:\n",
    "    kmeanModel = KMeans(n_clusters=k).fit(X_train)\n",
    "    kmeanModel.fit(X_train)\n",
    " \n",
    "    distortions.append(sum(np.min(cdist(X, kmeanModel.cluster_centers_,\n",
    "                                        'euclidean'), axis=1)) / X_train.shape[0])\n",
    "    inertias.append(kmeanModel.inertia_)\n",
    " \n",
    "    mapping1[k] = sum(np.min(cdist(X_train, kmeanModel.cluster_centers_,\n",
    "                                   'euclidean'), axis=1)) / X_train.shape[0]\n",
    "    mapping2[k] = kmeanModel.inertia_"
   ]
  },
  {
   "cell_type": "markdown",
   "metadata": {},
   "source": [
    "   - Distortion: It is calculated as the average of the squared distances from the cluster centers of the respective clusters. Typically, the Euclidean distance metric is used.\n",
    "   - Inertia: It is the sum of squared distances of samples to their closest cluster center."
   ]
  },
  {
   "cell_type": "code",
   "execution_count": 264,
   "metadata": {},
   "outputs": [
    {
     "name": "stderr",
     "output_type": "stream",
     "text": [
      "Exception in Tkinter callback\n",
      "Traceback (most recent call last):\n",
      "  File \"/home/pteradox/anaconda3/lib/python3.8/tkinter/__init__.py\", line 1883, in __call__\n",
      "    return self.func(*args)\n",
      "  File \"/home/pteradox/anaconda3/lib/python3.8/tkinter/__init__.py\", line 804, in callit\n",
      "    func(*args)\n",
      "  File \"/home/pteradox/anaconda3/lib/python3.8/site-packages/matplotlib/backends/_backend_tk.py\", line 253, in idle_draw\n",
      "    self.draw()\n",
      "  File \"/home/pteradox/anaconda3/lib/python3.8/site-packages/matplotlib/backends/backend_tkagg.py\", line 9, in draw\n",
      "    super(FigureCanvasTkAgg, self).draw()\n",
      "  File \"/home/pteradox/anaconda3/lib/python3.8/site-packages/matplotlib/backends/backend_agg.py\", line 407, in draw\n",
      "    self.figure.draw(self.renderer)\n",
      "  File \"/home/pteradox/anaconda3/lib/python3.8/site-packages/matplotlib/backend_bases.py\", line 1544, in _draw\n",
      "    def _draw(renderer): raise Done(renderer)\n",
      "matplotlib.backend_bases._get_renderer.<locals>.Done: <matplotlib.backends.backend_agg.RendererAgg object at 0x7f41dc6fbd00>\n",
      "Exception in Tkinter callback\n",
      "Traceback (most recent call last):\n",
      "  File \"/home/pteradox/anaconda3/lib/python3.8/tkinter/__init__.py\", line 1883, in __call__\n",
      "    return self.func(*args)\n",
      "  File \"/home/pteradox/anaconda3/lib/python3.8/site-packages/matplotlib/backends/_backend_tk.py\", line 242, in resize\n",
      "    self.draw()\n",
      "  File \"/home/pteradox/anaconda3/lib/python3.8/site-packages/matplotlib/backends/backend_tkagg.py\", line 9, in draw\n",
      "    super(FigureCanvasTkAgg, self).draw()\n",
      "  File \"/home/pteradox/anaconda3/lib/python3.8/site-packages/matplotlib/backends/backend_agg.py\", line 407, in draw\n",
      "    self.figure.draw(self.renderer)\n",
      "  File \"/home/pteradox/anaconda3/lib/python3.8/site-packages/matplotlib/backend_bases.py\", line 1544, in _draw\n",
      "    def _draw(renderer): raise Done(renderer)\n",
      "matplotlib.backend_bases._get_renderer.<locals>.Done: <matplotlib.backends.backend_agg.RendererAgg object at 0x7f41dc6fbd00>\n",
      "Exception in Tkinter callback\n",
      "Traceback (most recent call last):\n",
      "  File \"/home/pteradox/anaconda3/lib/python3.8/tkinter/__init__.py\", line 1883, in __call__\n",
      "    return self.func(*args)\n",
      "  File \"/home/pteradox/anaconda3/lib/python3.8/tkinter/__init__.py\", line 804, in callit\n",
      "    func(*args)\n",
      "  File \"/home/pteradox/anaconda3/lib/python3.8/site-packages/matplotlib/backends/_backend_tk.py\", line 253, in idle_draw\n",
      "    self.draw()\n",
      "  File \"/home/pteradox/anaconda3/lib/python3.8/site-packages/matplotlib/backends/backend_tkagg.py\", line 9, in draw\n",
      "    super(FigureCanvasTkAgg, self).draw()\n",
      "  File \"/home/pteradox/anaconda3/lib/python3.8/site-packages/matplotlib/backends/backend_agg.py\", line 407, in draw\n",
      "    self.figure.draw(self.renderer)\n",
      "  File \"/home/pteradox/anaconda3/lib/python3.8/site-packages/matplotlib/backend_bases.py\", line 1544, in _draw\n",
      "    def _draw(renderer): raise Done(renderer)\n",
      "matplotlib.backend_bases._get_renderer.<locals>.Done: <matplotlib.backends.backend_agg.RendererAgg object at 0x7f41dc6fbd00>\n"
     ]
    },
    {
     "data": {
      "image/png": "[encoded data removed]",
      "text/plain": [
       "<Figure size 432x288 with 1 Axes>"
      ]
     },
     "metadata": {
      "needs_background": "light"
     },
     "output_type": "display_data"
    }
   ],
   "source": [
    "\n",
    "plt.plot(K, distortions, 'bx-')\n",
    "plt.xlabel('Values of K')\n",
    "plt.ylabel('Distortion')\n",
    "plt.title('The Elbow Method using Distortion')\n",
    "plt.show()\n",
    "#plt.savefig('../img/elbow_distort.png')"
   ]
  },
  {
   "cell_type": "code",
   "execution_count": 265,
   "metadata": {},
   "outputs": [
    {
     "name": "stderr",
     "output_type": "stream",
     "text": [
      "Exception in Tkinter callback\n",
      "Traceback (most recent call last):\n",
      "  File \"/home/pteradox/anaconda3/lib/python3.8/tkinter/__init__.py\", line 1883, in __call__\n",
      "    return self.func(*args)\n",
      "  File \"/home/pteradox/anaconda3/lib/python3.8/tkinter/__init__.py\", line 804, in callit\n",
      "    func(*args)\n",
      "  File \"/home/pteradox/anaconda3/lib/python3.8/site-packages/matplotlib/backends/_backend_tk.py\", line 253, in idle_draw\n",
      "    self.draw()\n",
      "  File \"/home/pteradox/anaconda3/lib/python3.8/site-packages/matplotlib/backends/backend_tkagg.py\", line 9, in draw\n",
      "    super(FigureCanvasTkAgg, self).draw()\n",
      "  File \"/home/pteradox/anaconda3/lib/python3.8/site-packages/matplotlib/backends/backend_agg.py\", line 407, in draw\n",
      "    self.figure.draw(self.renderer)\n",
      "  File \"/home/pteradox/anaconda3/lib/python3.8/site-packages/matplotlib/backend_bases.py\", line 1544, in _draw\n",
      "    def _draw(renderer): raise Done(renderer)\n",
      "matplotlib.backend_bases._get_renderer.<locals>.Done: <matplotlib.backends.backend_agg.RendererAgg object at 0x7f41dc8d93d0>\n",
      "Exception in Tkinter callback\n",
      "Traceback (most recent call last):\n",
      "  File \"/home/pteradox/anaconda3/lib/python3.8/tkinter/__init__.py\", line 1883, in __call__\n",
      "    return self.func(*args)\n",
      "  File \"/home/pteradox/anaconda3/lib/python3.8/site-packages/matplotlib/backends/_backend_tk.py\", line 242, in resize\n",
      "    self.draw()\n",
      "  File \"/home/pteradox/anaconda3/lib/python3.8/site-packages/matplotlib/backends/backend_tkagg.py\", line 9, in draw\n",
      "    super(FigureCanvasTkAgg, self).draw()\n",
      "  File \"/home/pteradox/anaconda3/lib/python3.8/site-packages/matplotlib/backends/backend_agg.py\", line 407, in draw\n",
      "    self.figure.draw(self.renderer)\n",
      "  File \"/home/pteradox/anaconda3/lib/python3.8/site-packages/matplotlib/backend_bases.py\", line 1544, in _draw\n",
      "    def _draw(renderer): raise Done(renderer)\n",
      "matplotlib.backend_bases._get_renderer.<locals>.Done: <matplotlib.backends.backend_agg.RendererAgg object at 0x7f41dc8d93d0>\n",
      "Exception in Tkinter callback\n",
      "Traceback (most recent call last):\n",
      "  File \"/home/pteradox/anaconda3/lib/python3.8/tkinter/__init__.py\", line 1883, in __call__\n",
      "    return self.func(*args)\n",
      "  File \"/home/pteradox/anaconda3/lib/python3.8/tkinter/__init__.py\", line 804, in callit\n",
      "    func(*args)\n",
      "  File \"/home/pteradox/anaconda3/lib/python3.8/site-packages/matplotlib/backends/_backend_tk.py\", line 253, in idle_draw\n",
      "    self.draw()\n",
      "  File \"/home/pteradox/anaconda3/lib/python3.8/site-packages/matplotlib/backends/backend_tkagg.py\", line 9, in draw\n",
      "    super(FigureCanvasTkAgg, self).draw()\n",
      "  File \"/home/pteradox/anaconda3/lib/python3.8/site-packages/matplotlib/backends/backend_agg.py\", line 407, in draw\n",
      "    self.figure.draw(self.renderer)\n",
      "  File \"/home/pteradox/anaconda3/lib/python3.8/site-packages/matplotlib/backend_bases.py\", line 1544, in _draw\n",
      "    def _draw(renderer): raise Done(renderer)\n",
      "matplotlib.backend_bases._get_renderer.<locals>.Done: <matplotlib.backends.backend_agg.RendererAgg object at 0x7f41dc8d93d0>\n"
     ]
    },
    {
     "data": {
      "image/png": "[encoded data removed]",
      "text/plain": [
       "<Figure size 432x288 with 1 Axes>"
      ]
     },
     "metadata": {
      "needs_background": "light"
     },
     "output_type": "display_data"
    }
   ],
   "source": [
    "plt.plot(K, inertias, 'bx-')\n",
    "plt.xlabel('Values of K')\n",
    "plt.ylabel('Inertia')\n",
    "plt.title('The Elbow Method using Inertia')\n",
    "plt.show()\n",
    "#plt.savefig('../img/elbow_inertia.png')"
   ]
  },
  {
   "cell_type": "markdown",
   "metadata": {},
   "source": [
    "# K-Nearest Classifier"
   ]
  },
  {
   "cell_type": "code",
   "execution_count": 266,
   "metadata": {},
   "outputs": [],
   "source": [
    "X_trainkc, X_testkc, y_trainkc, y_testkc = train_test_split(X, y, stratify=y, test_size=0.28)"
   ]
  },
  {
   "cell_type": "code",
   "execution_count": 267,
   "metadata": {},
   "outputs": [
    {
     "data": {
      "text/plain": [
       "KNeighborsClassifier(n_neighbors=2)"
      ]
     },
     "execution_count": 267,
     "metadata": {},
     "output_type": "execute_result"
    }
   ],
   "source": [
    "kN = KNeighborsClassifier(n_neighbors=2)\n",
    "kN.fit(X_trainkc, y_trainkc)"
   ]
  },
  {
   "cell_type": "code",
   "execution_count": 268,
   "metadata": {},
   "outputs": [
    {
     "data": {
      "text/plain": [
       "0.9357541899441341"
      ]
     },
     "execution_count": 268,
     "metadata": {},
     "output_type": "execute_result"
    }
   ],
   "source": [
    "pred = kN.predict(X_testkc)\n",
    "kN.score(X_testkc, y_testkc)"
   ]
  },
  {
   "cell_type": "code",
   "execution_count": 269,
   "metadata": {},
   "outputs": [
    {
     "data": {
      "text/plain": [
       "array([[1232,   35],\n",
       "       [ 103,  778]])"
      ]
     },
     "execution_count": 269,
     "metadata": {},
     "output_type": "execute_result"
    }
   ],
   "source": [
    "confusion_matrix(y_testkc, kN.predict(X_testkc))"
   ]
  },
  {
   "cell_type": "code",
   "execution_count": 285,
   "metadata": {},
   "outputs": [
    {
     "data": {
      "image/png": "[encoded data removed]",
      "text/plain": [
       "<Figure size 432x288 with 2 Axes>"
      ]
     },
     "metadata": {
      "needs_background": "light"
     },
     "output_type": "display_data"
    }
   ],
   "source": [
    "\n",
    "labels = ['Apical', 'Basal']\n",
    "plot_confusion_matrix(kN, X_testkc, y_testkc)\n",
    "\n",
    "plt.xticks(np.arange(2), labels) \n",
    "plt.yticks(np.arange(2), labels) \n",
    "plt.xlabel('Predicted')\n",
    "plt.ylabel('True')\n",
    "plt.show()\n",
    "plt.savefig('../img/confusion_kN.png')"
   ]
  },
  {
   "cell_type": "code",
   "execution_count": 287,
   "metadata": {},
   "outputs": [
    {
     "name": "stdout",
     "output_type": "stream",
     "text": [
      "              precision    recall  f1-score   support\n",
      "\n",
      "           0       0.92      0.97      0.95      1267\n",
      "           1       0.96      0.88      0.92       881\n",
      "\n",
      "    accuracy                           0.94      2148\n",
      "   macro avg       0.94      0.93      0.93      2148\n",
      "weighted avg       0.94      0.94      0.94      2148\n",
      "\n"
     ]
    }
   ],
   "source": [
    "print(classification_report(y_testkc, kN.predict(X_testkc)))"
   ]
  },
  {
   "cell_type": "code",
   "execution_count": 305,
   "metadata": {},
   "outputs": [
    {
     "data": {
      "text/plain": [
       "(7668, 3)"
      ]
     },
     "execution_count": 305,
     "metadata": {},
     "output_type": "execute_result"
    }
   ],
   "source": [
    "X.shape"
   ]
  },
  {
   "cell_type": "markdown",
   "metadata": {},
   "source": [
    "# SVM ROC Curve"
   ]
  },
  {
   "cell_type": "code",
   "execution_count": null,
   "metadata": {},
   "outputs": [],
   "source": [
    "\n",
    "import numpy as np\n",
    "import matplotlib.pyplot as plt\n",
    "from itertools import cycle\n",
    "\n",
    "from sklearn import svm\n",
    "from sklearn.metrics import roc_curve, auc\n",
    "from sklearn.model_selection import train_test_split\n",
    "from sklearn.preprocessing import label_binarize\n",
    "from sklearn.multiclass import OneVsRestClassifier\n",
    "from scipy import interp\n",
    "from sklearn.metrics import roc_auc_score\n",
    "\n",
    "\n",
    "# Binarize the output\n",
    "\n",
    "n_classes = y.shape[0]\n",
    "\n",
    "random_state = np.random.RandomState(0)\n",
    "n_samples, n_features = X.shape\n",
    "\n",
    "\n",
    "X_train_svm, X_test_svm, y_train_svm, y_test_svm = train_test_split(X, y, test_size=.3)\n",
    "\n",
    "# Learn to predict each class against the other with train/test/split data\n",
    "classifier = OneVsRestClassifier(svm.SVC(kernel='linear', probability=True,\n",
    "                                 random_state=random_state))\n",
    "y_score = classifier.fit(X_train_svm, y_train_svm).decision_function(X_test_svm)\n",
    "\n",
    "# Compute ROC curve and ROC area for each class\n",
    "fpr = dict()\n",
    "tpr = dict()\n",
    "roc_auc = dict()\n",
    "for i in range(n_classes):\n",
    "    fpr[i], tpr[i], _ = roc_curve(y_test_svm[:, i], y_score[:, i])\n",
    "    roc_auc[i] = auc(fpr[i], tpr[i])\n",
    "\n",
    "# Compute micro-average ROC curve and ROC area\n",
    "fpr[\"micro\"], tpr[\"micro\"], _ = roc_curve(y_test_svm.ravel(), y_score.ravel())\n",
    "roc_auc[\"micro\"] = auc(fpr[\"micro\"], tpr[\"micro\"])"
   ]
  },
  {
   "cell_type": "code",
   "execution_count": null,
   "metadata": {},
   "outputs": [],
   "source": [
    "\n",
    "# First aggregate all false positive rates\n",
    "all_fpr = np.unique(np.concatenate([fpr[i] for i in range(n_classes)]))\n",
    "\n",
    "# Then interpolate all ROC curves at this points\n",
    "mean_tpr = np.zeros_like(all_fpr)\n",
    "for i in range(n_classes):\n",
    "    mean_tpr += interp(all_fpr, fpr[i], tpr[i])\n",
    "\n",
    "# Finally average it and compute AUC\n",
    "mean_tpr /= n_classes\n",
    "\n",
    "fpr[\"macro\"] = all_fpr\n",
    "tpr[\"macro\"] = mean_tpr\n",
    "roc_auc[\"macro\"] = auc(fpr[\"macro\"], tpr[\"macro\"])\n",
    "\n",
    "# Plot all ROC curves\n",
    "plt.figure()\n",
    "plt.plot(fpr[\"micro\"], tpr[\"micro\"],\n",
    "         label='micro-average ROC curve (area = {0:0.2f})'\n",
    "               ''.format(roc_auc[\"micro\"]),\n",
    "         color='deeppink', linestyle=':', linewidth=4)\n",
    "\n",
    "plt.plot(fpr[\"macro\"], tpr[\"macro\"],\n",
    "         label='macro-average ROC curve (area = {0:0.2f})'\n",
    "               ''.format(roc_auc[\"macro\"]),\n",
    "         color='navy', linestyle=':', linewidth=4)\n",
    "\n",
    "colors = cycle(['aqua', 'darkorange', 'cornflowerblue'])\n",
    "for i, color in zip(range(n_classes), colors):\n",
    "    plt.plot(fpr[i], tpr[i], color=color, lw=lw,\n",
    "             label='ROC curve of class {0} (area = {1:0.2f})'\n",
    "             ''.format(i, roc_auc[i]))\n",
    "\n",
    "plt.plot([0, 1], [0, 1], 'k--', lw=lw)\n",
    "plt.xlim([0.0, 1.0])\n",
    "plt.ylim([0.0, 1.05])\n",
    "plt.xlabel('False Positive Rate')\n",
    "plt.ylabel('True Positive Rate')\n",
    "plt.title('Some extension of Receiver operating characteristic to multi-class')\n",
    "plt.legend(loc=\"lower right\")\n",
    "plt.show()"
   ]
  },
  {
   "cell_type": "code",
   "execution_count": null,
   "metadata": {},
   "outputs": [],
   "source": []
  }
 ],
 "metadata": {
  "kernelspec": {
   "display_name": "Python 3",
   "language": "python",
   "name": "python3"
  },
  "language_info": {
   "codemirror_mode": {
    "name": "ipython",
    "version": 3
   },
   "file_extension": ".py",
   "mimetype": "text/x-python",
   "name": "python",
   "nbconvert_exporter": "python",
   "pygments_lexer": "ipython3",
   "version": "3.8.5"
  }
 },
 "nbformat": 4,
 "nbformat_minor": 4
}
