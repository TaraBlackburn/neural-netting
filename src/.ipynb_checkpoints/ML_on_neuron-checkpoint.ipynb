{
 "cells": [
  {
   "cell_type": "code",
   "execution_count": 222,
   "metadata": {},
   "outputs": [],
   "source": [
    "import numpy as np\n",
    "import pandas as pd\n",
    "\n",
    "import os\n",
    "import pickle\n",
    "import glob\n",
    "import matplotlib.pyplot as plt\n",
    "import time\n",
    "import keras\n",
    "import imageio\n",
    "from scipy import signal\n",
    "from keras.models import load_model\n",
    "from sklearn.metrics import mean_squared_error as MSE\n",
    "from sklearn.metrics import mean_absolute_error as MAE\n",
    "from sklearn.preprocessing import LabelEncoder\n",
    "from sklearn.metrics import explained_variance_score\n",
    "from sklearn.metrics import roc_curve, auc\n",
    "from skimage.transform import resize\n",
    "from matplotlib.lines import Line2D\n",
    "import matplotlib.patches as mpatches\n",
    "import matplotlib.gridspec as gridspec\n",
    "from mpl_toolkits.axes_grid1.inset_locator import inset_axes\n"
   ]
  },
  {
   "cell_type": "code",
   "execution_count": 11,
   "metadata": {},
   "outputs": [
    {
     "name": "stdout",
     "output_type": "stream",
     "text": [
      "-----------------------------------------------\n",
      "finding files: morphology and test data\n",
      "-----------------------------------------------\n",
      "model metadata found : \"NMDA_TCN__DWT_7_128_153__training.pickle\"\n",
      "morphology found     : \"morphology_dict.pickle\"\n",
      "number of test files is 12\n",
      "-----------------------------------------------\n"
     ]
    }
   ],
   "source": [
    "save_figures = False\n",
    "file_ending = '.png'\n",
    "model_string = 'NMDA'\n",
    "\n",
    "dataset_folder = '../data'\n",
    "\n",
    "models_folder     = os.path.join(dataset_folder, 'Models')\n",
    "morphology_folder = os.path.join(dataset_folder, 'Morphology')\n",
    "test_data_folder  = os.path.join(dataset_folder, 'Data_test')\n",
    "#auxiliary_folder  = os.path.join(dataset_folder, 'Auxiliary')\n",
    "\n",
    "model_filename           = os.path.join(models_folder, 'NMDA_TCN__DWT_7_128_153__model.h5')\n",
    "model_metadata_filename  = os.path.join(models_folder, 'NMDA_TCN__DWT_7_128_153__training.pickle')\n",
    "morphology_filename      = os.path.join(morphology_folder, 'morphology_dict.pickle')\n",
    "#NN_illustration_filename = os.path.join(auxiliary_folder, 'TCN_7_layers.png')\n",
    "test_files               = sorted(glob.glob(os.path.join(test_data_folder, '*_128_simulationRuns*_6_secDuration_*')))\n",
    "\n",
    "print('-----------------------------------------------')\n",
    "print('finding files: morphology and test data')\n",
    "print('-----------------------------------------------')\n",
    "#print('model found          : \"%s\"' %(model_filename.split('/')[-1]))\n",
    "print('model metadata found : \"%s\"' %(model_metadata_filename.split('/')[-1]))\n",
    "print('morphology found     : \"%s\"' %(morphology_filename.split('/')[-1]))\n",
    "print('number of test files is %d' %(len(test_files)))\n",
    "print('-----------------------------------------------')"
   ]
  },
  {
   "cell_type": "code",
   "execution_count": 178,
   "metadata": {},
   "outputs": [],
   "source": [
    "testing_3 = test_files[1]\n",
    "experiment_dict = pickle.load(open(testing_3, \"rb\" ), encoding='latin1')\n"
   ]
  },
  {
   "cell_type": "code",
   "execution_count": 15,
   "metadata": {},
   "outputs": [],
   "source": [
    "experiment_dict.keys()\n",
    "df = pd.DataFrame(experiment_dict)"
   ]
  },
  {
   "cell_type": "code",
   "execution_count": 38,
   "metadata": {},
   "outputs": [],
   "source": [
    "opening_files = test_files[:3]"
   ]
  },
  {
   "cell_type": "code",
   "execution_count": 180,
   "metadata": {},
   "outputs": [],
   "source": [
    "def dataframe(file):\n",
    "    experiment_dict = pickle.load(open(file, \"rb\"), encoding='latin1')\n",
    "    df = pd.DataFrame(experiment_dict)\n",
    "    df.drop('Results', inplace=True, axis=1)\n",
    "    df = df.loc[['allSegmentsType', 'allSegmentsLength', 'allSegments_SectionInd', 'allSegments_DistFromSoma', 'allSegments_SectionDistFromSoma']]\n",
    "    df = df_sub.T.apply(pd.Series.explode).reset_index()\n",
    "\n",
    "    return df\n",
    "\n",
    "#df_sub = df.loc[['allSectionsType', 'allSectionsLength', 'allSections_DistFromSoma']]\n",
    "\n",
    "#df_sub.T.apply(pd.Series.explode).reset_index()\n",
    "# stratify on column for basal/apical - use labelencoder"
   ]
  },
  {
   "cell_type": "code",
   "execution_count": 217,
   "metadata": {},
   "outputs": [],
   "source": [
    "def multi_df(files):\n",
    "    lst_df = []\n",
    "    for file in files:\n",
    "        lst_df.append(dataframe(file))\n",
    "        \n",
    "    return pd.concat(lst_df)"
   ]
  },
  {
   "cell_type": "code",
   "execution_count": 218,
   "metadata": {},
   "outputs": [],
   "source": [
    "'''testing = test_files[:3]\n",
    "dfs = multi_df(testing)''' #testing the definitions"
   ]
  },
  {
   "cell_type": "code",
   "execution_count": 220,
   "metadata": {},
   "outputs": [],
   "source": [
    "dfs = multi_df(test_files)"
   ]
  },
  {
   "cell_type": "code",
   "execution_count": 225,
   "metadata": {},
   "outputs": [],
   "source": [
    "le = LabelEncoder()\n",
    "dfs['allSectionsType'] = le.fit_transform(dfs['allSectionsType'])\n",
    "#1 = Basal\n",
    "#0 = apical"
   ]
  },
  {
   "cell_type": "code",
   "execution_count": 224,
   "metadata": {},
   "outputs": [
    {
     "data": {
      "text/html": [
       "<div>\n",
       "<style scoped>\n",
       "    .dataframe tbody tr th:only-of-type {\n",
       "        vertical-align: middle;\n",
       "    }\n",
       "\n",
       "    .dataframe tbody tr th {\n",
       "        vertical-align: top;\n",
       "    }\n",
       "\n",
       "    .dataframe thead th {\n",
       "        text-align: right;\n",
       "    }\n",
       "</style>\n",
       "<table border=\"1\" class=\"dataframe\">\n",
       "  <thead>\n",
       "    <tr style=\"text-align: right;\">\n",
       "      <th></th>\n",
       "      <th>index</th>\n",
       "      <th>allSectionsType</th>\n",
       "      <th>allSectionsLength</th>\n",
       "      <th>allSections_DistFromSoma</th>\n",
       "    </tr>\n",
       "  </thead>\n",
       "  <tbody>\n",
       "    <tr>\n",
       "      <th>0</th>\n",
       "      <td>Params</td>\n",
       "      <td>1</td>\n",
       "      <td>24.2009</td>\n",
       "      <td>11.5847</td>\n",
       "    </tr>\n",
       "    <tr>\n",
       "      <th>1</th>\n",
       "      <td>Params</td>\n",
       "      <td>1</td>\n",
       "      <td>15.1822</td>\n",
       "      <td>35.7856</td>\n",
       "    </tr>\n",
       "    <tr>\n",
       "      <th>2</th>\n",
       "      <td>Params</td>\n",
       "      <td>1</td>\n",
       "      <td>151.651</td>\n",
       "      <td>50.9678</td>\n",
       "    </tr>\n",
       "    <tr>\n",
       "      <th>3</th>\n",
       "      <td>Params</td>\n",
       "      <td>1</td>\n",
       "      <td>7.45563</td>\n",
       "      <td>50.9678</td>\n",
       "    </tr>\n",
       "    <tr>\n",
       "      <th>4</th>\n",
       "      <td>Params</td>\n",
       "      <td>1</td>\n",
       "      <td>92.5758</td>\n",
       "      <td>58.4234</td>\n",
       "    </tr>\n",
       "    <tr>\n",
       "      <th>...</th>\n",
       "      <td>...</td>\n",
       "      <td>...</td>\n",
       "      <td>...</td>\n",
       "      <td>...</td>\n",
       "    </tr>\n",
       "    <tr>\n",
       "      <th>188</th>\n",
       "      <td>Params</td>\n",
       "      <td>0</td>\n",
       "      <td>23.3443</td>\n",
       "      <td>57.7203</td>\n",
       "    </tr>\n",
       "    <tr>\n",
       "      <th>189</th>\n",
       "      <td>Params</td>\n",
       "      <td>0</td>\n",
       "      <td>93.6788</td>\n",
       "      <td>81.0646</td>\n",
       "    </tr>\n",
       "    <tr>\n",
       "      <th>190</th>\n",
       "      <td>Params</td>\n",
       "      <td>0</td>\n",
       "      <td>22.0852</td>\n",
       "      <td>81.0646</td>\n",
       "    </tr>\n",
       "    <tr>\n",
       "      <th>191</th>\n",
       "      <td>Params</td>\n",
       "      <td>0</td>\n",
       "      <td>36.0978</td>\n",
       "      <td>103.15</td>\n",
       "    </tr>\n",
       "    <tr>\n",
       "      <th>192</th>\n",
       "      <td>Params</td>\n",
       "      <td>0</td>\n",
       "      <td>30.0747</td>\n",
       "      <td>103.15</td>\n",
       "    </tr>\n",
       "  </tbody>\n",
       "</table>\n",
       "<p>2316 rows × 4 columns</p>\n",
       "</div>"
      ],
      "text/plain": [
       "      index  allSectionsType allSectionsLength allSections_DistFromSoma\n",
       "0    Params                1           24.2009                  11.5847\n",
       "1    Params                1           15.1822                  35.7856\n",
       "2    Params                1           151.651                  50.9678\n",
       "3    Params                1           7.45563                  50.9678\n",
       "4    Params                1           92.5758                  58.4234\n",
       "..      ...              ...               ...                      ...\n",
       "188  Params                0           23.3443                  57.7203\n",
       "189  Params                0           93.6788                  81.0646\n",
       "190  Params                0           22.0852                  81.0646\n",
       "191  Params                0           36.0978                   103.15\n",
       "192  Params                0           30.0747                   103.15\n",
       "\n",
       "[2316 rows x 4 columns]"
      ]
     },
     "execution_count": 224,
     "metadata": {},
     "output_type": "execute_result"
    }
   ],
   "source": [
    "dfs"
   ]
  },
  {
   "cell_type": "code",
   "execution_count": 141,
   "metadata": {},
   "outputs": [
    {
     "data": {
      "text/plain": [
       "numOutputSpikesPerSim                          128\n",
       "allSegmentsLength                              639\n",
       "allSegments_SectionInd                         639\n",
       "allSegments_SectionDistFromSoma                639\n",
       "allSectionsType                                193\n",
       "allSectionsLength                              193\n",
       "allSections_DistFromSoma                       193\n",
       "allSegments_DistFromSoma                       639\n",
       "allSegmentsType                                639\n",
       "listOfISIs                                     494\n",
       "inst_rate_sampling_time_interval_options_ms     18\n",
       "Name: Params, dtype: int64"
      ]
     },
     "execution_count": 141,
     "metadata": {},
     "output_type": "execute_result"
    }
   ],
   "source": [
    "df\n",
    "lst = list((df.loc['numOutputSpikesPerSim']))[0]\n",
    "\n",
    "df1 = pd.DataFrame({'numOutputSpikesPerSim':lst})\n",
    "df.Params.apply(lambda x: len(x))\n"
   ]
  }
 ],
 "metadata": {
  "kernelspec": {
   "display_name": "Python 3",
   "language": "python",
   "name": "python3"
  },
  "language_info": {
   "codemirror_mode": {
    "name": "ipython",
    "version": 3
   },
   "file_extension": ".py",
   "mimetype": "text/x-python",
   "name": "python",
   "nbconvert_exporter": "python",
   "pygments_lexer": "ipython3",
   "version": "3.8.5"
  }
 },
 "nbformat": 4,
 "nbformat_minor": 4
}
